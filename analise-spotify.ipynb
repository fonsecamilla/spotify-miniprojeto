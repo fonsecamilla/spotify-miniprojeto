{
 "cells": [
  {
   "cell_type": "markdown",
   "metadata": {},
   "source": [
    "<img src=\"https://www.politecnicos.com.br/img/075.jpg\" alt=\"Grupo Turing\" height=\"420\" width=\"420\">\n",
    "\n",
    "# Análise de dados - Spotify\n",
    "\n",
    "Por: Camilla de Oliveira Fonseca\n",
    "\n",
    "Essa é uma análise do dataset \"spotify.csv\" proposta como mini-projeto de treinamento do Grupo Turing."
   ]
  },
  {
   "cell_type": "markdown",
   "metadata": {},
   "source": [
    "### Descrição do dataset\n",
    "retirada [desse site](https://developer.spotify.com/documentation/web-api/reference/tracks/get-audio-features/)\n",
    "\n",
    "**Features:**\n",
    "\n",
    "* **song_duration_ms:** _(int)_ The duration of the track in milliseconds.\n",
    "\n",
    "* **key:** _(int)_ The estimated overall key of the track. Integers map to pitches using standard Pitch Class notation\n",
    "> E.g. 0 = C, 1 = C♯/D♭, 2 = D, and so on. If no key was detected, the value is -1.\n",
    "\n",
    "* **audio_mode:** _(int)_Mode indicates the modality (major or minor) of a track, the type of scale from which its melodic content is derived.\n",
    "> Major is represented by 1 and minor is 0.\n",
    "\n",
    "* **time_signature:** _(int)_ An estimated overall time signature of a track. The time signature (meter) is a notational convention to specify how many beats are in each bar (or measure).\n",
    "\n",
    "* **acousticness:** _(float)_ A confidence measure from 0.0 to 1.0 of whether the track is acoustic.\n",
    "> 1.0 represents high confidence the track is acoustic.\n",
    "\n",
    "* **danceability:** _(float)_ Danceability describes how suitable a track is for dancing based on a combination of musical elements including tempo, rhythm stability, beat strength, and overall regularity.\n",
    "> A value of 0.0 is least danceable and 1.0 is most danceable.\n",
    "\n",
    "* **energy:** _(float)_ Energy is a measure from *0.0 to 1.0* and represents a perceptual measure of intensity and activity. Typically, energetic tracks feel fast, loud, and noisy. For example, death metal has high energy, while a Bach prelude scores low on the scale.\n",
    "\n",
    "* **instrumentalness:** _(float)_ Detects the presence of an audience in the recording.\n",
    "> Higher liveness values represent an increased probability that the track was performed live. A value above 0.8 provides strong likelihood that the track is live.\n",
    "\n",
    "* **loudness:** _(float)_ The overall loudness of a track in decibels (dB). Loudness values are averaged across the entire track and are useful for comparing relative loudness of tracks. Loudness is the quality of a sound that is the primary psychological correlate of physical strength (amplitude).\n",
    "> Values typical range between -60 and 0 db.\n",
    "\n",
    "* **speechiness:** _(float)_ Speechiness detects the presence of spoken words in a track.\n",
    "> The more exclusively speech-like the recording (e.g. talk show, audio book, poetry), the closer to 1.0 the attribute value. Values above 0.66 describe tracks that are probably made entirely of spoken words. Values between 0.33 and 0.66 describe tracks that may contain both music and speech, either in sections or layered, including such cases as rap music. Values below 0.33 most likely represent music and other non-speech-like tracks.\n",
    "\n",
    "* **audio_valence:** _(float)_ A measure from *0.0 to 1.0* describing the musical positiveness conveyed by a track. Tracks with high valence sound more positive (e.g. happy, cheerful, euphoric), while tracks with low valence sound more negative (e.g. sad, depressed, angry).\n",
    "\n",
    "* **tempo:** _(float)_ The overall estimated tempo of a track in beats per minute (BPM). In musical terminology, tempo is the speed or pace of a given piece and derives directly from the average beat duration.\n",
    "\n",
    "* **song_popularity:** _(int)_ Song ratings of spotify audience.\n",
    "\n",
    "* **liveness:** _(float)_ Detects the presence of an audience in the recording. Higher liveness values represent an increased probability that the track was performed live.\n",
    "> A value above 0.8 provides strong likelihood that the track is live."
   ]
  },
  {
   "cell_type": "code",
   "execution_count": 1,
   "metadata": {},
   "outputs": [],
   "source": [
    "#Importando as bibliotecas necessarias\n",
    "import numpy as np\n",
    "import pandas as pd\n",
    "import matplotlib.pyplot as plt\n",
    "import seaborn as sns\n",
    "\n",
    "\n",
    "%matplotlib inline\n"
   ]
  },
  {
   "cell_type": "code",
   "execution_count": 75,
   "metadata": {},
   "outputs": [],
   "source": [
    "#Leitura do dataset\n",
    "df = pd.read_csv(\"spotify.csv\", index_col = 0) #index_col pq o dataset ja tem uma coluna de index"
   ]
  },
  {
   "cell_type": "markdown",
   "metadata": {},
   "source": [
    "# Explorando e preparando os dados\n"
   ]
  },
  {
   "cell_type": "markdown",
   "metadata": {},
   "source": [
    "## Problemas de tipos de dado e consistência"
   ]
  },
  {
   "cell_type": "code",
   "execution_count": 77,
   "metadata": {},
   "outputs": [
    {
     "output_type": "execute_result",
     "data": {
      "text/plain": "                     song_name song_popularity song_duration_ms  \\\n0   Boulevard of Broken Dreams              73           262333   \n1                   In The End              66           216933   \n2            Seven Nation Army              76           231733   \n3                   By The Way              74           216933   \n4            How You Remind Me              56           223826   \n5             Bring Me To Life              80           235893   \n6                  Last Resort              81           199893   \n7     Are You Gonna Be My Girl              76           213800   \n8               Mr. Brightside              80           222586   \n9                  Sex on Fire              81           203346   \n10                  The Middle              78           168253   \n11                        Numb              63           185586   \n12             Smooth Criminal              75           209266   \n13                  Can't Stop              81           269000   \n14                  Chop Suey!              69           210240   \n\n              acousticness danceability              energy  \\\n0   0.005520000000000001kg   0.496mol/L               0.682   \n1                 0.0103kg   0.542mol/L               0.853   \n2                0.00817kg   0.737mol/L               0.463   \n3                 0.0264kg   0.451mol/L                0.97   \n4               0.000954kg   0.447mol/L  0.7659999999999999   \n5                0.00895kg   0.316mol/L               0.945   \n6               0.000504kg   0.581mol/L               0.887   \n7                0.00148kg   0.613mol/L               0.953   \n8                0.00108kg    0.33mol/L               0.936   \n9                0.00172kg   0.542mol/L               0.905   \n10                0.0424kg   0.629mol/L               0.897   \n11                0.0046kg   0.496mol/L               0.863   \n12               0.00434kg   0.647mol/L               0.964   \n13                0.0179kg   0.618mol/L               0.938   \n14              0.000353kg    0.42mol/L               0.929   \n\n         instrumentalness   key             liveness             loudness  \\\n0                2.94e-05   8.0               0.0589               -4.095   \n1                     0.0   3.0                0.108               -6.407   \n2                   0.447   0.0                0.255  -7.8279999999999985   \n3                 0.00355   0.0                0.102               -4.938   \n4                     0.0  10.0                0.113               -5.065   \n5                1.85e-06   4.0                0.396               -3.169   \n6                 0.00111   4.0                0.268               -3.659   \n7                0.000582   2.0                0.152               -3.435   \n8                     0.0   1.0               0.0926                -3.66   \n9                  0.0104   9.0                0.136               -5.653   \n10                    0.0   2.0                0.263               -3.401   \n11                    0.0   9.0                0.639  -4.1530000000000005   \n12                 0.0036   9.0                 0.15               -4.225   \n13                    0.0   9.0  0.16699999999999998               -3.442   \n14  0.0007469999999999999   7.0                0.122               -3.899   \n\n   audio_mode           speechiness    tempo time_signature  audio_valence  \n0           1                0.0294   167.06              4          0.474  \n1           0                0.0498  105.256              4          0.370  \n2           1                0.0792  123.881              4          0.324  \n3           1                 0.107  122.444              4          0.198  \n4           1                0.0313  172.011              4          0.574  \n5           0                 0.124  189.931              4          0.320  \n6           0                0.0624   90.578              4          0.724  \n7           1                0.0855  105.046              4          0.537  \n8           1                0.0917  148.112              4          0.234  \n9           1  0.054000000000000006  153.398              4          0.374  \n10          1                0.0483  161.944              4          0.930  \n11          1                0.0381  110.018              4          0.243  \n12          0                  0.06  126.942              4          0.875  \n13          1                0.0456   91.455              4          0.875  \n14          0                 0.121  127.204              4          0.300  ",
      "text/html": "<div>\n<style scoped>\n    .dataframe tbody tr th:only-of-type {\n        vertical-align: middle;\n    }\n\n    .dataframe tbody tr th {\n        vertical-align: top;\n    }\n\n    .dataframe thead th {\n        text-align: right;\n    }\n</style>\n<table border=\"1\" class=\"dataframe\">\n  <thead>\n    <tr style=\"text-align: right;\">\n      <th></th>\n      <th>song_name</th>\n      <th>song_popularity</th>\n      <th>song_duration_ms</th>\n      <th>acousticness</th>\n      <th>danceability</th>\n      <th>energy</th>\n      <th>instrumentalness</th>\n      <th>key</th>\n      <th>liveness</th>\n      <th>loudness</th>\n      <th>audio_mode</th>\n      <th>speechiness</th>\n      <th>tempo</th>\n      <th>time_signature</th>\n      <th>audio_valence</th>\n    </tr>\n  </thead>\n  <tbody>\n    <tr>\n      <th>0</th>\n      <td>Boulevard of Broken Dreams</td>\n      <td>73</td>\n      <td>262333</td>\n      <td>0.005520000000000001kg</td>\n      <td>0.496mol/L</td>\n      <td>0.682</td>\n      <td>2.94e-05</td>\n      <td>8.0</td>\n      <td>0.0589</td>\n      <td>-4.095</td>\n      <td>1</td>\n      <td>0.0294</td>\n      <td>167.06</td>\n      <td>4</td>\n      <td>0.474</td>\n    </tr>\n    <tr>\n      <th>1</th>\n      <td>In The End</td>\n      <td>66</td>\n      <td>216933</td>\n      <td>0.0103kg</td>\n      <td>0.542mol/L</td>\n      <td>0.853</td>\n      <td>0.0</td>\n      <td>3.0</td>\n      <td>0.108</td>\n      <td>-6.407</td>\n      <td>0</td>\n      <td>0.0498</td>\n      <td>105.256</td>\n      <td>4</td>\n      <td>0.370</td>\n    </tr>\n    <tr>\n      <th>2</th>\n      <td>Seven Nation Army</td>\n      <td>76</td>\n      <td>231733</td>\n      <td>0.00817kg</td>\n      <td>0.737mol/L</td>\n      <td>0.463</td>\n      <td>0.447</td>\n      <td>0.0</td>\n      <td>0.255</td>\n      <td>-7.8279999999999985</td>\n      <td>1</td>\n      <td>0.0792</td>\n      <td>123.881</td>\n      <td>4</td>\n      <td>0.324</td>\n    </tr>\n    <tr>\n      <th>3</th>\n      <td>By The Way</td>\n      <td>74</td>\n      <td>216933</td>\n      <td>0.0264kg</td>\n      <td>0.451mol/L</td>\n      <td>0.97</td>\n      <td>0.00355</td>\n      <td>0.0</td>\n      <td>0.102</td>\n      <td>-4.938</td>\n      <td>1</td>\n      <td>0.107</td>\n      <td>122.444</td>\n      <td>4</td>\n      <td>0.198</td>\n    </tr>\n    <tr>\n      <th>4</th>\n      <td>How You Remind Me</td>\n      <td>56</td>\n      <td>223826</td>\n      <td>0.000954kg</td>\n      <td>0.447mol/L</td>\n      <td>0.7659999999999999</td>\n      <td>0.0</td>\n      <td>10.0</td>\n      <td>0.113</td>\n      <td>-5.065</td>\n      <td>1</td>\n      <td>0.0313</td>\n      <td>172.011</td>\n      <td>4</td>\n      <td>0.574</td>\n    </tr>\n    <tr>\n      <th>5</th>\n      <td>Bring Me To Life</td>\n      <td>80</td>\n      <td>235893</td>\n      <td>0.00895kg</td>\n      <td>0.316mol/L</td>\n      <td>0.945</td>\n      <td>1.85e-06</td>\n      <td>4.0</td>\n      <td>0.396</td>\n      <td>-3.169</td>\n      <td>0</td>\n      <td>0.124</td>\n      <td>189.931</td>\n      <td>4</td>\n      <td>0.320</td>\n    </tr>\n    <tr>\n      <th>6</th>\n      <td>Last Resort</td>\n      <td>81</td>\n      <td>199893</td>\n      <td>0.000504kg</td>\n      <td>0.581mol/L</td>\n      <td>0.887</td>\n      <td>0.00111</td>\n      <td>4.0</td>\n      <td>0.268</td>\n      <td>-3.659</td>\n      <td>0</td>\n      <td>0.0624</td>\n      <td>90.578</td>\n      <td>4</td>\n      <td>0.724</td>\n    </tr>\n    <tr>\n      <th>7</th>\n      <td>Are You Gonna Be My Girl</td>\n      <td>76</td>\n      <td>213800</td>\n      <td>0.00148kg</td>\n      <td>0.613mol/L</td>\n      <td>0.953</td>\n      <td>0.000582</td>\n      <td>2.0</td>\n      <td>0.152</td>\n      <td>-3.435</td>\n      <td>1</td>\n      <td>0.0855</td>\n      <td>105.046</td>\n      <td>4</td>\n      <td>0.537</td>\n    </tr>\n    <tr>\n      <th>8</th>\n      <td>Mr. Brightside</td>\n      <td>80</td>\n      <td>222586</td>\n      <td>0.00108kg</td>\n      <td>0.33mol/L</td>\n      <td>0.936</td>\n      <td>0.0</td>\n      <td>1.0</td>\n      <td>0.0926</td>\n      <td>-3.66</td>\n      <td>1</td>\n      <td>0.0917</td>\n      <td>148.112</td>\n      <td>4</td>\n      <td>0.234</td>\n    </tr>\n    <tr>\n      <th>9</th>\n      <td>Sex on Fire</td>\n      <td>81</td>\n      <td>203346</td>\n      <td>0.00172kg</td>\n      <td>0.542mol/L</td>\n      <td>0.905</td>\n      <td>0.0104</td>\n      <td>9.0</td>\n      <td>0.136</td>\n      <td>-5.653</td>\n      <td>1</td>\n      <td>0.054000000000000006</td>\n      <td>153.398</td>\n      <td>4</td>\n      <td>0.374</td>\n    </tr>\n    <tr>\n      <th>10</th>\n      <td>The Middle</td>\n      <td>78</td>\n      <td>168253</td>\n      <td>0.0424kg</td>\n      <td>0.629mol/L</td>\n      <td>0.897</td>\n      <td>0.0</td>\n      <td>2.0</td>\n      <td>0.263</td>\n      <td>-3.401</td>\n      <td>1</td>\n      <td>0.0483</td>\n      <td>161.944</td>\n      <td>4</td>\n      <td>0.930</td>\n    </tr>\n    <tr>\n      <th>11</th>\n      <td>Numb</td>\n      <td>63</td>\n      <td>185586</td>\n      <td>0.0046kg</td>\n      <td>0.496mol/L</td>\n      <td>0.863</td>\n      <td>0.0</td>\n      <td>9.0</td>\n      <td>0.639</td>\n      <td>-4.1530000000000005</td>\n      <td>1</td>\n      <td>0.0381</td>\n      <td>110.018</td>\n      <td>4</td>\n      <td>0.243</td>\n    </tr>\n    <tr>\n      <th>12</th>\n      <td>Smooth Criminal</td>\n      <td>75</td>\n      <td>209266</td>\n      <td>0.00434kg</td>\n      <td>0.647mol/L</td>\n      <td>0.964</td>\n      <td>0.0036</td>\n      <td>9.0</td>\n      <td>0.15</td>\n      <td>-4.225</td>\n      <td>0</td>\n      <td>0.06</td>\n      <td>126.942</td>\n      <td>4</td>\n      <td>0.875</td>\n    </tr>\n    <tr>\n      <th>13</th>\n      <td>Can't Stop</td>\n      <td>81</td>\n      <td>269000</td>\n      <td>0.0179kg</td>\n      <td>0.618mol/L</td>\n      <td>0.938</td>\n      <td>0.0</td>\n      <td>9.0</td>\n      <td>0.16699999999999998</td>\n      <td>-3.442</td>\n      <td>1</td>\n      <td>0.0456</td>\n      <td>91.455</td>\n      <td>4</td>\n      <td>0.875</td>\n    </tr>\n    <tr>\n      <th>14</th>\n      <td>Chop Suey!</td>\n      <td>69</td>\n      <td>210240</td>\n      <td>0.000353kg</td>\n      <td>0.42mol/L</td>\n      <td>0.929</td>\n      <td>0.0007469999999999999</td>\n      <td>7.0</td>\n      <td>0.122</td>\n      <td>-3.899</td>\n      <td>0</td>\n      <td>0.121</td>\n      <td>127.204</td>\n      <td>4</td>\n      <td>0.300</td>\n    </tr>\n  </tbody>\n</table>\n</div>"
     },
     "metadata": {},
     "execution_count": 77
    }
   ],
   "source": [
    "df.head(15)"
   ]
  },
  {
   "cell_type": "code",
   "execution_count": 79,
   "metadata": {},
   "outputs": [
    {
     "output_type": "stream",
     "name": "stdout",
     "text": "<class 'pandas.core.frame.DataFrame'>\nInt64Index: 18835 entries, 0 to 18834\nData columns (total 15 columns):\nsong_name           18835 non-null object\nsong_popularity     18835 non-null object\nsong_duration_ms    18835 non-null object\nacousticness        18835 non-null object\ndanceability        18835 non-null object\nenergy              18835 non-null object\ninstrumentalness    18835 non-null object\nkey                 18835 non-null float64\nliveness            18835 non-null object\nloudness            18835 non-null object\naudio_mode          18835 non-null object\nspeechiness         18835 non-null object\ntempo               18835 non-null object\ntime_signature      18835 non-null object\naudio_valence       18834 non-null float64\ndtypes: float64(2), object(13)\nmemory usage: 2.3+ MB\n"
    }
   ],
   "source": [
    "df.info()"
   ]
  },
  {
   "cell_type": "markdown",
   "metadata": {},
   "source": [
    "Vemos que a única feature que está armazenada no tipo de dado correto é *audio_valence*.\n",
    "\n",
    "Além disso, os valores de *acousticness* e *danceability* estão salvos com \"kg\" e \"mol/L\" que, além de não fazerem sentido, precisam ser retirados para converter os dados em *float*.\n",
    "\n",
    "Vemos também que há 1 dado nulo em _audio_valence_."
   ]
  },
  {
   "cell_type": "code",
   "execution_count": 81,
   "metadata": {},
   "outputs": [],
   "source": [
    "#Retirando kg e mol/L\n",
    "\n",
    "df[\"acousticness\"] = df[\"acousticness\"].str.strip(\"kg\")\n",
    "df[\"danceability\"] = df[\"danceability\"].str.strip(\"mol/L\")\n",
    "\n",
    "#Retirando nulos\n",
    "df.dropna(inplace = True)\n"
   ]
  },
  {
   "cell_type": "markdown",
   "metadata": {},
   "source": [
    "Ao tentar converter os dados para *float*, encontrei alguns valores marcado com \"nao_sei\". Usar a função unique() seria uma forma de verificar se há valores inadequados como esse, porém a maioria das features tem uma quantidade muito grande de valores diferentes (uma vez que na verdade são dados contínuos) e isso não é possível.\n",
    "\n",
    "Como o dataset é grande, provavelmente não haverá problemas em excluir as linhas com 'nao_sei'."
   ]
  },
  {
   "cell_type": "code",
   "execution_count": 83,
   "metadata": {},
   "outputs": [],
   "source": [
    "ftrs_str = [\"song_name\",\"song_popularity\", \"song_duration_ms\", \"acousticness\", \"danceability\", \"energy\", \"instrumentalness\", \"liveness\", \"loudness\", \"audio_mode\", \"speechiness\", \"tempo\", \"time_signature\"]\n",
    "\n",
    "for ftr in ftrs_str:\n",
    "    df = df[df[ftr] != 'nao_sei']\n",
    "    df[ftr] = df[ftr].str.strip(\"nao_sei\")"
   ]
  },
  {
   "cell_type": "code",
   "execution_count": 85,
   "metadata": {},
   "outputs": [
    {
     "output_type": "stream",
     "name": "stdout",
     "text": "[ 8.  3.  0. 10.  4.  2.  1.  9.  7. 11.  5.  6.]\n['1' '0']\n['4' '3' '1' '5' '2800000000' '0']\n['73' '66' '76' '74' '56' '80' '81' '78' '63' '75' '69' '77' '71' '62'\n '79' '13' '28' '11' '65' '70' '60' '72' '57' '64' '61' '67' '94' '98'\n '59' '87' '85' '58' '92' '83' '44' '47' '54' '49' '52' '95' '45' '38'\n '46' '53' '39' '88' '68' '37' '43' '84' '40' '41' '10' '31' '48' '24'\n '29' '51' '4' '7' '50' '42' '30' '21' '55' '14' '33' '8' '16' '34' '26'\n '15' '19' '5' '3' '22' '36' '32' '35' '9' '82' '25' '86' '12' '18' '27'\n '17' '6' '20' '0' '90' '93' '91' '89' '99' '97' '96' '1' '2' '23' '100']\n"
    }
   ],
   "source": [
    "ftrs_unq = [\"key\", \"audio_mode\", \"time_signature\", \"song_popularity\"]\n",
    "\n",
    "for ftr in ftrs_unq:\n",
    "    print(df[ftr].unique())"
   ]
  },
  {
   "cell_type": "markdown",
   "metadata": {},
   "source": [
    "Para as features que são possíveis explorar com unique(), chama a atenção um valor de *time_signature* muito alto (280000000) e inconsistente."
   ]
  },
  {
   "cell_type": "code",
   "execution_count": 87,
   "metadata": {},
   "outputs": [
    {
     "output_type": "execute_result",
     "data": {
      "text/plain": "                    song_name song_popularity song_duration_ms acousticness  \\\n149  What Makes You Beautiful              69           198053      0.00761   \n\n           danceability              energy instrumentalness  key liveness  \\\n149  0.7290000000000001  0.7709999999999999              0.0  4.0    0.087   \n\n    loudness audio_mode speechiness    tempo time_signature  audio_valence  \n149   -2.451          1      0.0725  125.011     2800000000          0.873  ",
      "text/html": "<div>\n<style scoped>\n    .dataframe tbody tr th:only-of-type {\n        vertical-align: middle;\n    }\n\n    .dataframe tbody tr th {\n        vertical-align: top;\n    }\n\n    .dataframe thead th {\n        text-align: right;\n    }\n</style>\n<table border=\"1\" class=\"dataframe\">\n  <thead>\n    <tr style=\"text-align: right;\">\n      <th></th>\n      <th>song_name</th>\n      <th>song_popularity</th>\n      <th>song_duration_ms</th>\n      <th>acousticness</th>\n      <th>danceability</th>\n      <th>energy</th>\n      <th>instrumentalness</th>\n      <th>key</th>\n      <th>liveness</th>\n      <th>loudness</th>\n      <th>audio_mode</th>\n      <th>speechiness</th>\n      <th>tempo</th>\n      <th>time_signature</th>\n      <th>audio_valence</th>\n    </tr>\n  </thead>\n  <tbody>\n    <tr>\n      <th>149</th>\n      <td>What Makes You Beautiful</td>\n      <td>69</td>\n      <td>198053</td>\n      <td>0.00761</td>\n      <td>0.7290000000000001</td>\n      <td>0.7709999999999999</td>\n      <td>0.0</td>\n      <td>4.0</td>\n      <td>0.087</td>\n      <td>-2.451</td>\n      <td>1</td>\n      <td>0.0725</td>\n      <td>125.011</td>\n      <td>2800000000</td>\n      <td>0.873</td>\n    </tr>\n  </tbody>\n</table>\n</div>"
     },
     "metadata": {},
     "execution_count": 87
    }
   ],
   "source": [
    "df[df[\"time_signature\"] == '2800000000']"
   ]
  },
  {
   "cell_type": "markdown",
   "metadata": {},
   "source": [
    "Pesquisando na internet, vemos que o tempo de \"What Makes You Beautiful\" é 4, assim podemos arrumar."
   ]
  },
  {
   "cell_type": "code",
   "execution_count": 89,
   "metadata": {},
   "outputs": [
    {
     "output_type": "execute_result",
     "data": {
      "text/plain": "song_name           What Makes You Beautiful\nsong_popularity                           69\nsong_duration_ms                      198053\nacousticness                         0.00761\ndanceability              0.7290000000000001\nenergy                    0.7709999999999999\ninstrumentalness                         0.0\nkey                                        4\nliveness                               0.087\nloudness                              -2.451\naudio_mode                                 1\nspeechiness                           0.0725\ntempo                                125.011\ntime_signature                             4\naudio_valence                          0.873\nName: 149, dtype: object"
     },
     "metadata": {},
     "execution_count": 89
    }
   ],
   "source": [
    "df.loc[149,\"time_signature\"] = '4'\n",
    "\n",
    "df.loc[149]"
   ]
  },
  {
   "cell_type": "markdown",
   "metadata": {},
   "source": [
    "Fiquei um tanto curiosa também com o valor 0 para essa feature, pois não sabia se fazia sentido."
   ]
  },
  {
   "cell_type": "code",
   "execution_count": 91,
   "metadata": {},
   "outputs": [
    {
     "output_type": "execute_result",
     "data": {
      "text/plain": "                                    song_name song_popularity  \\\n7119   Gina Rodriguez - Latinos Trending Intr               0   \n11171                                     Aur              50   \n18120                                  Imma B              61   \n\n      song_duration_ms acousticness danceability energy instrumentalness  \\\n7119             12000          0.7          0.0  0.493              0.0   \n11171           102536       0.0774          0.0   0.56            0.963   \n18120           257560        0.184        0.619  0.539              0.0   \n\n        key             liveness loudness audio_mode speechiness    tempo  \\\n7119    7.0                0.457   -6.102          1         0.0      0.0   \n11171  11.0                0.589   -9.866          1         0.0      0.0   \n18120   0.0  0.28800000000000003     -6.9          1       0.387  145.618   \n\n      time_signature  audio_valence  \n7119               0          0.000  \n11171              0          0.000  \n18120              0          0.424  ",
      "text/html": "<div>\n<style scoped>\n    .dataframe tbody tr th:only-of-type {\n        vertical-align: middle;\n    }\n\n    .dataframe tbody tr th {\n        vertical-align: top;\n    }\n\n    .dataframe thead th {\n        text-align: right;\n    }\n</style>\n<table border=\"1\" class=\"dataframe\">\n  <thead>\n    <tr style=\"text-align: right;\">\n      <th></th>\n      <th>song_name</th>\n      <th>song_popularity</th>\n      <th>song_duration_ms</th>\n      <th>acousticness</th>\n      <th>danceability</th>\n      <th>energy</th>\n      <th>instrumentalness</th>\n      <th>key</th>\n      <th>liveness</th>\n      <th>loudness</th>\n      <th>audio_mode</th>\n      <th>speechiness</th>\n      <th>tempo</th>\n      <th>time_signature</th>\n      <th>audio_valence</th>\n    </tr>\n  </thead>\n  <tbody>\n    <tr>\n      <th>7119</th>\n      <td>Gina Rodriguez - Latinos Trending Intr</td>\n      <td>0</td>\n      <td>12000</td>\n      <td>0.7</td>\n      <td>0.0</td>\n      <td>0.493</td>\n      <td>0.0</td>\n      <td>7.0</td>\n      <td>0.457</td>\n      <td>-6.102</td>\n      <td>1</td>\n      <td>0.0</td>\n      <td>0.0</td>\n      <td>0</td>\n      <td>0.000</td>\n    </tr>\n    <tr>\n      <th>11171</th>\n      <td>Aur</td>\n      <td>50</td>\n      <td>102536</td>\n      <td>0.0774</td>\n      <td>0.0</td>\n      <td>0.56</td>\n      <td>0.963</td>\n      <td>11.0</td>\n      <td>0.589</td>\n      <td>-9.866</td>\n      <td>1</td>\n      <td>0.0</td>\n      <td>0.0</td>\n      <td>0</td>\n      <td>0.000</td>\n    </tr>\n    <tr>\n      <th>18120</th>\n      <td>Imma B</td>\n      <td>61</td>\n      <td>257560</td>\n      <td>0.184</td>\n      <td>0.619</td>\n      <td>0.539</td>\n      <td>0.0</td>\n      <td>0.0</td>\n      <td>0.28800000000000003</td>\n      <td>-6.9</td>\n      <td>1</td>\n      <td>0.387</td>\n      <td>145.618</td>\n      <td>0</td>\n      <td>0.424</td>\n    </tr>\n  </tbody>\n</table>\n</div>"
     },
     "metadata": {},
     "execution_count": 91
    }
   ],
   "source": [
    "df[df[\"time_signature\"] == '0']"
   ]
  },
  {
   "cell_type": "markdown",
   "metadata": {},
   "source": [
    "Pesquisando na internet, vi que a notação \"0\" pode ser usada para músicas com compassos livres ou irregulares, que parece ser o caso das músicas acima.\n",
    "\n",
    "Agora podemos converter os dados para seus tipos corretos.\n",
    "\n",
    "As features *audio_mode* e *time_signature* são categóricas e, apesar de constarem como *int* na descrição do dataset, preferi convertê-las para *category*."
   ]
  },
  {
   "cell_type": "code",
   "execution_count": 93,
   "metadata": {},
   "outputs": [],
   "source": [
    "ftrs_float = [\"acousticness\", \"danceability\", \"energy\", \"instrumentalness\", \"liveness\", \"loudness\", \"speechiness\", \"tempo\"]\n",
    "\n",
    "ftrs_int = [\"song_popularity\", \"song_duration_ms\", \"key\"]\n",
    "\n",
    "ftrs_cat = [\"audio_mode\", \"time_signature\"]\n",
    "\n",
    "#Corvertendo para float\n",
    "for ftr in ftrs_float:\n",
    "    df[ftr] = df[ftr].astype('float')\n",
    "\n",
    "#Convertendo para int\n",
    "for ftr in ftrs_int:\n",
    "    df[ftr] = df[ftr].astype(np.int64)\n",
    "    # quando tentei .astype('int') deu erro com a seguinte msg: Python int too large to convert to C long\n",
    "\n",
    "#Convertendo para categorico\n",
    "for ftr in ftrs_cat:\n",
    "    df[ftr] = df[ftr].astype('category')"
   ]
  },
  {
   "cell_type": "code",
   "execution_count": 95,
   "metadata": {},
   "outputs": [
    {
     "output_type": "stream",
     "name": "stdout",
     "text": "<class 'pandas.core.frame.DataFrame'>\nInt64Index: 18823 entries, 0 to 18834\nData columns (total 15 columns):\nsong_name           18823 non-null object\nsong_popularity     18823 non-null int64\nsong_duration_ms    18823 non-null int64\nacousticness        18823 non-null float64\ndanceability        18823 non-null float64\nenergy              18823 non-null float64\ninstrumentalness    18823 non-null float64\nkey                 18823 non-null int64\nliveness            18823 non-null float64\nloudness            18823 non-null float64\naudio_mode          18823 non-null category\nspeechiness         18823 non-null float64\ntempo               18823 non-null float64\ntime_signature      18823 non-null category\naudio_valence       18823 non-null float64\ndtypes: category(2), float64(9), int64(3), object(1)\nmemory usage: 2.7+ MB\n"
    }
   ],
   "source": [
    "df.info()"
   ]
  },
  {
   "cell_type": "code",
   "execution_count": 97,
   "metadata": {},
   "outputs": [
    {
     "output_type": "execute_result",
     "data": {
      "text/plain": "                   song_name  song_popularity  song_duration_ms  acousticness  \\\n0  Boulevard of Broken Dream               73            262333      0.005520   \n1                 In The End               66            216933      0.010300   \n2          Seven Nation Army               76            231733      0.008170   \n3                 By The Way               74            216933      0.026400   \n4           How You Remind M               56            223826      0.000954   \n\n   danceability  energy  instrumentalness  key  liveness  loudness audio_mode  \\\n0         0.496   0.682          0.000029    8    0.0589    -4.095          1   \n1         0.542   0.853          0.000000    3    0.1080    -6.407          0   \n2         0.737   0.463          0.447000    0    0.2550    -7.828          1   \n3         0.451   0.970          0.003550    0    0.1020    -4.938          1   \n4         0.447   0.766          0.000000   10    0.1130    -5.065          1   \n\n   speechiness    tempo time_signature  audio_valence  \n0       0.0294  167.060              4          0.474  \n1       0.0498  105.256              4          0.370  \n2       0.0792  123.881              4          0.324  \n3       0.1070  122.444              4          0.198  \n4       0.0313  172.011              4          0.574  ",
      "text/html": "<div>\n<style scoped>\n    .dataframe tbody tr th:only-of-type {\n        vertical-align: middle;\n    }\n\n    .dataframe tbody tr th {\n        vertical-align: top;\n    }\n\n    .dataframe thead th {\n        text-align: right;\n    }\n</style>\n<table border=\"1\" class=\"dataframe\">\n  <thead>\n    <tr style=\"text-align: right;\">\n      <th></th>\n      <th>song_name</th>\n      <th>song_popularity</th>\n      <th>song_duration_ms</th>\n      <th>acousticness</th>\n      <th>danceability</th>\n      <th>energy</th>\n      <th>instrumentalness</th>\n      <th>key</th>\n      <th>liveness</th>\n      <th>loudness</th>\n      <th>audio_mode</th>\n      <th>speechiness</th>\n      <th>tempo</th>\n      <th>time_signature</th>\n      <th>audio_valence</th>\n    </tr>\n  </thead>\n  <tbody>\n    <tr>\n      <th>0</th>\n      <td>Boulevard of Broken Dream</td>\n      <td>73</td>\n      <td>262333</td>\n      <td>0.005520</td>\n      <td>0.496</td>\n      <td>0.682</td>\n      <td>0.000029</td>\n      <td>8</td>\n      <td>0.0589</td>\n      <td>-4.095</td>\n      <td>1</td>\n      <td>0.0294</td>\n      <td>167.060</td>\n      <td>4</td>\n      <td>0.474</td>\n    </tr>\n    <tr>\n      <th>1</th>\n      <td>In The End</td>\n      <td>66</td>\n      <td>216933</td>\n      <td>0.010300</td>\n      <td>0.542</td>\n      <td>0.853</td>\n      <td>0.000000</td>\n      <td>3</td>\n      <td>0.1080</td>\n      <td>-6.407</td>\n      <td>0</td>\n      <td>0.0498</td>\n      <td>105.256</td>\n      <td>4</td>\n      <td>0.370</td>\n    </tr>\n    <tr>\n      <th>2</th>\n      <td>Seven Nation Army</td>\n      <td>76</td>\n      <td>231733</td>\n      <td>0.008170</td>\n      <td>0.737</td>\n      <td>0.463</td>\n      <td>0.447000</td>\n      <td>0</td>\n      <td>0.2550</td>\n      <td>-7.828</td>\n      <td>1</td>\n      <td>0.0792</td>\n      <td>123.881</td>\n      <td>4</td>\n      <td>0.324</td>\n    </tr>\n    <tr>\n      <th>3</th>\n      <td>By The Way</td>\n      <td>74</td>\n      <td>216933</td>\n      <td>0.026400</td>\n      <td>0.451</td>\n      <td>0.970</td>\n      <td>0.003550</td>\n      <td>0</td>\n      <td>0.1020</td>\n      <td>-4.938</td>\n      <td>1</td>\n      <td>0.1070</td>\n      <td>122.444</td>\n      <td>4</td>\n      <td>0.198</td>\n    </tr>\n    <tr>\n      <th>4</th>\n      <td>How You Remind M</td>\n      <td>56</td>\n      <td>223826</td>\n      <td>0.000954</td>\n      <td>0.447</td>\n      <td>0.766</td>\n      <td>0.000000</td>\n      <td>10</td>\n      <td>0.1130</td>\n      <td>-5.065</td>\n      <td>1</td>\n      <td>0.0313</td>\n      <td>172.011</td>\n      <td>4</td>\n      <td>0.574</td>\n    </tr>\n  </tbody>\n</table>\n</div>"
     },
     "metadata": {},
     "execution_count": 97
    }
   ],
   "source": [
    "df.head()"
   ]
  },
  {
   "cell_type": "code",
   "execution_count": 99,
   "metadata": {},
   "outputs": [
    {
     "output_type": "execute_result",
     "data": {
      "text/plain": "       audio_mode time_signature\ncount       18823          18823\nunique          2              5\ntop             1              4\nfreq        11825          17744",
      "text/html": "<div>\n<style scoped>\n    .dataframe tbody tr th:only-of-type {\n        vertical-align: middle;\n    }\n\n    .dataframe tbody tr th {\n        vertical-align: top;\n    }\n\n    .dataframe thead th {\n        text-align: right;\n    }\n</style>\n<table border=\"1\" class=\"dataframe\">\n  <thead>\n    <tr style=\"text-align: right;\">\n      <th></th>\n      <th>audio_mode</th>\n      <th>time_signature</th>\n    </tr>\n  </thead>\n  <tbody>\n    <tr>\n      <th>count</th>\n      <td>18823</td>\n      <td>18823</td>\n    </tr>\n    <tr>\n      <th>unique</th>\n      <td>2</td>\n      <td>5</td>\n    </tr>\n    <tr>\n      <th>top</th>\n      <td>1</td>\n      <td>4</td>\n    </tr>\n    <tr>\n      <th>freq</th>\n      <td>11825</td>\n      <td>17744</td>\n    </tr>\n  </tbody>\n</table>\n</div>"
     },
     "metadata": {},
     "execution_count": 99
    }
   ],
   "source": [
    "df[ftrs_cat].describe()"
   ]
  },
  {
   "cell_type": "markdown",
   "metadata": {},
   "source": [
    "Vemos que os valores de *time_signatue* estão **bem** concentrados em 4, a frequência ultrapassa 90%."
   ]
  },
  {
   "cell_type": "code",
   "execution_count": 101,
   "metadata": {},
   "outputs": [
    {
     "output_type": "execute_result",
     "data": {
      "text/plain": "                    count          mean           std           min  \\\nsong_popularity   18823.0  5.299033e+01  2.190882e+01  0.000000e+00   \nsong_duration_ms  18823.0 -9.841578e+08  1.350534e+11 -1.852891e+13   \nacousticness      18823.0  2.585292e-01  2.887133e-01  1.020000e-06   \ndanceability      18823.0  6.334021e-01  1.566931e-01  0.000000e+00   \nenergy            18823.0  6.450035e-01  2.140746e-01  1.070000e-03   \ninstrumentalness  18823.0  7.800799e-02  2.215674e-01  0.000000e+00   \nkey               18823.0  5.288902e+00  3.614212e+00  0.000000e+00   \nliveness          18823.0  1.796629e-01  1.440198e-01  1.090000e-02   \nloudness          18823.0 -7.447085e+00  3.826882e+00 -3.876800e+01   \nspeechiness       18823.0  1.020912e-01  1.043930e-01  0.000000e+00   \ntempo             18823.0  1.210770e+02  2.871319e+01  0.000000e+00   \naudio_valence     18823.0  5.279494e-01  2.446100e-01  0.000000e+00   \n\n                          25%            50%           75%          max  \nsong_popularity       40.0000      56.000000      69.00000      100.000  \nsong_duration_ms  184339.5000  211306.000000  242844.00000  1799346.000  \nacousticness           0.0241       0.132000       0.42400        0.996  \ndanceability           0.5330       0.645000       0.74800        0.987  \nenergy                 0.5100       0.674000       0.81500        0.999  \ninstrumentalness       0.0000       0.000011       0.00257        0.997  \nkey                    2.0000       5.000000       8.00000       11.000  \nliveness               0.0929       0.122000       0.22100        0.986  \nloudness              -9.0440      -6.555000      -4.90900        1.585  \nspeechiness            0.0378       0.055500       0.11900        0.941  \ntempo                 98.4155     120.013000     139.93100      242.318  \naudio_valence          0.3350       0.527000       0.72500        0.984  ",
      "text/html": "<div>\n<style scoped>\n    .dataframe tbody tr th:only-of-type {\n        vertical-align: middle;\n    }\n\n    .dataframe tbody tr th {\n        vertical-align: top;\n    }\n\n    .dataframe thead th {\n        text-align: right;\n    }\n</style>\n<table border=\"1\" class=\"dataframe\">\n  <thead>\n    <tr style=\"text-align: right;\">\n      <th></th>\n      <th>count</th>\n      <th>mean</th>\n      <th>std</th>\n      <th>min</th>\n      <th>25%</th>\n      <th>50%</th>\n      <th>75%</th>\n      <th>max</th>\n    </tr>\n  </thead>\n  <tbody>\n    <tr>\n      <th>song_popularity</th>\n      <td>18823.0</td>\n      <td>5.299033e+01</td>\n      <td>2.190882e+01</td>\n      <td>0.000000e+00</td>\n      <td>40.0000</td>\n      <td>56.000000</td>\n      <td>69.00000</td>\n      <td>100.000</td>\n    </tr>\n    <tr>\n      <th>song_duration_ms</th>\n      <td>18823.0</td>\n      <td>-9.841578e+08</td>\n      <td>1.350534e+11</td>\n      <td>-1.852891e+13</td>\n      <td>184339.5000</td>\n      <td>211306.000000</td>\n      <td>242844.00000</td>\n      <td>1799346.000</td>\n    </tr>\n    <tr>\n      <th>acousticness</th>\n      <td>18823.0</td>\n      <td>2.585292e-01</td>\n      <td>2.887133e-01</td>\n      <td>1.020000e-06</td>\n      <td>0.0241</td>\n      <td>0.132000</td>\n      <td>0.42400</td>\n      <td>0.996</td>\n    </tr>\n    <tr>\n      <th>danceability</th>\n      <td>18823.0</td>\n      <td>6.334021e-01</td>\n      <td>1.566931e-01</td>\n      <td>0.000000e+00</td>\n      <td>0.5330</td>\n      <td>0.645000</td>\n      <td>0.74800</td>\n      <td>0.987</td>\n    </tr>\n    <tr>\n      <th>energy</th>\n      <td>18823.0</td>\n      <td>6.450035e-01</td>\n      <td>2.140746e-01</td>\n      <td>1.070000e-03</td>\n      <td>0.5100</td>\n      <td>0.674000</td>\n      <td>0.81500</td>\n      <td>0.999</td>\n    </tr>\n    <tr>\n      <th>instrumentalness</th>\n      <td>18823.0</td>\n      <td>7.800799e-02</td>\n      <td>2.215674e-01</td>\n      <td>0.000000e+00</td>\n      <td>0.0000</td>\n      <td>0.000011</td>\n      <td>0.00257</td>\n      <td>0.997</td>\n    </tr>\n    <tr>\n      <th>key</th>\n      <td>18823.0</td>\n      <td>5.288902e+00</td>\n      <td>3.614212e+00</td>\n      <td>0.000000e+00</td>\n      <td>2.0000</td>\n      <td>5.000000</td>\n      <td>8.00000</td>\n      <td>11.000</td>\n    </tr>\n    <tr>\n      <th>liveness</th>\n      <td>18823.0</td>\n      <td>1.796629e-01</td>\n      <td>1.440198e-01</td>\n      <td>1.090000e-02</td>\n      <td>0.0929</td>\n      <td>0.122000</td>\n      <td>0.22100</td>\n      <td>0.986</td>\n    </tr>\n    <tr>\n      <th>loudness</th>\n      <td>18823.0</td>\n      <td>-7.447085e+00</td>\n      <td>3.826882e+00</td>\n      <td>-3.876800e+01</td>\n      <td>-9.0440</td>\n      <td>-6.555000</td>\n      <td>-4.90900</td>\n      <td>1.585</td>\n    </tr>\n    <tr>\n      <th>speechiness</th>\n      <td>18823.0</td>\n      <td>1.020912e-01</td>\n      <td>1.043930e-01</td>\n      <td>0.000000e+00</td>\n      <td>0.0378</td>\n      <td>0.055500</td>\n      <td>0.11900</td>\n      <td>0.941</td>\n    </tr>\n    <tr>\n      <th>tempo</th>\n      <td>18823.0</td>\n      <td>1.210770e+02</td>\n      <td>2.871319e+01</td>\n      <td>0.000000e+00</td>\n      <td>98.4155</td>\n      <td>120.013000</td>\n      <td>139.93100</td>\n      <td>242.318</td>\n    </tr>\n    <tr>\n      <th>audio_valence</th>\n      <td>18823.0</td>\n      <td>5.279494e-01</td>\n      <td>2.446100e-01</td>\n      <td>0.000000e+00</td>\n      <td>0.3350</td>\n      <td>0.527000</td>\n      <td>0.72500</td>\n      <td>0.984</td>\n    </tr>\n  </tbody>\n</table>\n</div>"
     },
     "metadata": {},
     "execution_count": 101
    }
   ],
   "source": [
    "df.describe().T"
   ]
  },
  {
   "cell_type": "markdown",
   "metadata": {},
   "source": [
    "Observamos problemas em _song_duration_ms_, uma vez que a duração de uma música não pode ser negativa, e em _loudness_, já que seu máximo é 0."
   ]
  },
  {
   "cell_type": "code",
   "execution_count": 103,
   "metadata": {},
   "outputs": [
    {
     "output_type": "execute_result",
     "data": {
      "text/plain": "   song_name  song_popularity  song_duration_ms  acousticness  danceability  \\\n62   White B               59   -18528908788662        0.0983          0.83   \n\n    energy  instrumentalness  key  liveness  loudness audio_mode  speechiness  \\\n62   0.497               0.0    1    0.0906     -6.94          1        0.052   \n\n      tempo time_signature  audio_valence  \n62  127.965              4          0.634  ",
      "text/html": "<div>\n<style scoped>\n    .dataframe tbody tr th:only-of-type {\n        vertical-align: middle;\n    }\n\n    .dataframe tbody tr th {\n        vertical-align: top;\n    }\n\n    .dataframe thead th {\n        text-align: right;\n    }\n</style>\n<table border=\"1\" class=\"dataframe\">\n  <thead>\n    <tr style=\"text-align: right;\">\n      <th></th>\n      <th>song_name</th>\n      <th>song_popularity</th>\n      <th>song_duration_ms</th>\n      <th>acousticness</th>\n      <th>danceability</th>\n      <th>energy</th>\n      <th>instrumentalness</th>\n      <th>key</th>\n      <th>liveness</th>\n      <th>loudness</th>\n      <th>audio_mode</th>\n      <th>speechiness</th>\n      <th>tempo</th>\n      <th>time_signature</th>\n      <th>audio_valence</th>\n    </tr>\n  </thead>\n  <tbody>\n    <tr>\n      <th>62</th>\n      <td>White B</td>\n      <td>59</td>\n      <td>-18528908788662</td>\n      <td>0.0983</td>\n      <td>0.83</td>\n      <td>0.497</td>\n      <td>0.0</td>\n      <td>1</td>\n      <td>0.0906</td>\n      <td>-6.94</td>\n      <td>1</td>\n      <td>0.052</td>\n      <td>127.965</td>\n      <td>4</td>\n      <td>0.634</td>\n    </tr>\n  </tbody>\n</table>\n</div>"
     },
     "metadata": {},
     "execution_count": 103
    }
   ],
   "source": [
    "df[df[\"song_duration_ms\"] <= 0]"
   ]
  },
  {
   "cell_type": "code",
   "execution_count": 105,
   "metadata": {},
   "outputs": [
    {
     "output_type": "execute_result",
     "data": {
      "text/plain": "                                       song_name  song_popularity  \\\n2503            We Are Your Friends - Radio Edit               57   \n2819           Search and Destroy - Iggy Pop Mix               55   \n6219                                       Polar               55   \n7980                    Gladiator - Instrumental               14   \n8950                          Wake Up (RIOT VIP)               52   \n13006       We Are Your Friends - Justice Vs Sim               58   \n15623  Long Story Short - Bodybangers Remix Edit               33   \n\n       song_duration_ms  acousticness  danceability  energy  instrumentalness  \\\n2503             164960       0.01020         0.646   0.977          0.769000   \n2819             208133       0.00353         0.235   0.977          0.006040   \n6219             236240       0.00679         0.795   0.994          0.904000   \n7980             198000       0.01070         0.780   0.972          0.029600   \n8950             292915       0.02510         0.341   0.995          0.000070   \n13006            262773       0.01040         0.615   0.970          0.384000   \n15623            206718       0.01610         0.762   0.977          0.000011   \n\n       key  liveness  loudness audio_mode  speechiness    tempo  \\\n2503     9     0.201     1.585          0       0.1670  123.016   \n2819     6     0.172     0.878          1       0.1070  152.952   \n6219     8     0.057     0.525          0       0.0483  126.023   \n7980     6     0.100     0.119          0       0.2530  137.056   \n8950     7     0.713     0.052          1       0.6260  160.311   \n13006    9     0.178     1.342          0       0.1190  122.993   \n15623    5     0.535     0.198          0       0.0934  128.012   \n\n      time_signature  audio_valence  \n2503               4         0.6060  \n2819               4         0.2410  \n6219               4         0.8650  \n7980               4         0.9580  \n8950               4         0.0801  \n13006              4         0.5070  \n15623              4         0.6160  ",
      "text/html": "<div>\n<style scoped>\n    .dataframe tbody tr th:only-of-type {\n        vertical-align: middle;\n    }\n\n    .dataframe tbody tr th {\n        vertical-align: top;\n    }\n\n    .dataframe thead th {\n        text-align: right;\n    }\n</style>\n<table border=\"1\" class=\"dataframe\">\n  <thead>\n    <tr style=\"text-align: right;\">\n      <th></th>\n      <th>song_name</th>\n      <th>song_popularity</th>\n      <th>song_duration_ms</th>\n      <th>acousticness</th>\n      <th>danceability</th>\n      <th>energy</th>\n      <th>instrumentalness</th>\n      <th>key</th>\n      <th>liveness</th>\n      <th>loudness</th>\n      <th>audio_mode</th>\n      <th>speechiness</th>\n      <th>tempo</th>\n      <th>time_signature</th>\n      <th>audio_valence</th>\n    </tr>\n  </thead>\n  <tbody>\n    <tr>\n      <th>2503</th>\n      <td>We Are Your Friends - Radio Edit</td>\n      <td>57</td>\n      <td>164960</td>\n      <td>0.01020</td>\n      <td>0.646</td>\n      <td>0.977</td>\n      <td>0.769000</td>\n      <td>9</td>\n      <td>0.201</td>\n      <td>1.585</td>\n      <td>0</td>\n      <td>0.1670</td>\n      <td>123.016</td>\n      <td>4</td>\n      <td>0.6060</td>\n    </tr>\n    <tr>\n      <th>2819</th>\n      <td>Search and Destroy - Iggy Pop Mix</td>\n      <td>55</td>\n      <td>208133</td>\n      <td>0.00353</td>\n      <td>0.235</td>\n      <td>0.977</td>\n      <td>0.006040</td>\n      <td>6</td>\n      <td>0.172</td>\n      <td>0.878</td>\n      <td>1</td>\n      <td>0.1070</td>\n      <td>152.952</td>\n      <td>4</td>\n      <td>0.2410</td>\n    </tr>\n    <tr>\n      <th>6219</th>\n      <td>Polar</td>\n      <td>55</td>\n      <td>236240</td>\n      <td>0.00679</td>\n      <td>0.795</td>\n      <td>0.994</td>\n      <td>0.904000</td>\n      <td>8</td>\n      <td>0.057</td>\n      <td>0.525</td>\n      <td>0</td>\n      <td>0.0483</td>\n      <td>126.023</td>\n      <td>4</td>\n      <td>0.8650</td>\n    </tr>\n    <tr>\n      <th>7980</th>\n      <td>Gladiator - Instrumental</td>\n      <td>14</td>\n      <td>198000</td>\n      <td>0.01070</td>\n      <td>0.780</td>\n      <td>0.972</td>\n      <td>0.029600</td>\n      <td>6</td>\n      <td>0.100</td>\n      <td>0.119</td>\n      <td>0</td>\n      <td>0.2530</td>\n      <td>137.056</td>\n      <td>4</td>\n      <td>0.9580</td>\n    </tr>\n    <tr>\n      <th>8950</th>\n      <td>Wake Up (RIOT VIP)</td>\n      <td>52</td>\n      <td>292915</td>\n      <td>0.02510</td>\n      <td>0.341</td>\n      <td>0.995</td>\n      <td>0.000070</td>\n      <td>7</td>\n      <td>0.713</td>\n      <td>0.052</td>\n      <td>1</td>\n      <td>0.6260</td>\n      <td>160.311</td>\n      <td>4</td>\n      <td>0.0801</td>\n    </tr>\n    <tr>\n      <th>13006</th>\n      <td>We Are Your Friends - Justice Vs Sim</td>\n      <td>58</td>\n      <td>262773</td>\n      <td>0.01040</td>\n      <td>0.615</td>\n      <td>0.970</td>\n      <td>0.384000</td>\n      <td>9</td>\n      <td>0.178</td>\n      <td>1.342</td>\n      <td>0</td>\n      <td>0.1190</td>\n      <td>122.993</td>\n      <td>4</td>\n      <td>0.5070</td>\n    </tr>\n    <tr>\n      <th>15623</th>\n      <td>Long Story Short - Bodybangers Remix Edit</td>\n      <td>33</td>\n      <td>206718</td>\n      <td>0.01610</td>\n      <td>0.762</td>\n      <td>0.977</td>\n      <td>0.000011</td>\n      <td>5</td>\n      <td>0.535</td>\n      <td>0.198</td>\n      <td>0</td>\n      <td>0.0934</td>\n      <td>128.012</td>\n      <td>4</td>\n      <td>0.6160</td>\n    </tr>\n  </tbody>\n</table>\n</div>"
     },
     "metadata": {},
     "execution_count": 105
    }
   ],
   "source": [
    "df[df[\"loudness\"] > 0]"
   ]
  },
  {
   "cell_type": "markdown",
   "metadata": {},
   "source": [
    "Como são poucos e seria complicado corrigir esses valores, optei por retirá-los."
   ]
  },
  {
   "cell_type": "code",
   "execution_count": 107,
   "metadata": {},
   "outputs": [],
   "source": [
    "df = df[(df[\"song_duration_ms\"] > 0) & (df[\"loudness\"] <= 0)]"
   ]
  },
  {
   "cell_type": "markdown",
   "metadata": {},
   "source": [
    "## Dados duplicados"
   ]
  },
  {
   "cell_type": "code",
   "execution_count": 109,
   "metadata": {},
   "outputs": [
    {
     "output_type": "stream",
     "name": "stdout",
     "text": "18815\n"
    }
   ],
   "source": [
    "antes = len(df)\n",
    "print(antes)"
   ]
  },
  {
   "cell_type": "code",
   "execution_count": 111,
   "metadata": {},
   "outputs": [
    {
     "output_type": "execute_result",
     "data": {
      "text/plain": "                                   song_name  song_popularity  \\\n5614                       tears left to cry               92   \n4644                       tears left to cry               74   \n2229                 (Don't Fear) The Reaper               19   \n459                  (Don't Fear) The Reaper               76   \n660                (I Just) Died In Your Arm               69   \n2306               (I Just) Died In Your Arm               72   \n807            (I've Had) The Time of My Lif               21   \n2324           (I've Had) The Time of My Lif               63   \n16924           (No One Knows Me) Like the P               19   \n2621            (No One Knows Me) Like the P               67   \n397    (You Make Me Feel Like) A Natural Wom               62   \n17273  (You Make Me Feel Like) A Natural Wom               71   \n18398                         1-800-273-8255                8   \n10003                         1-800-273-8255               86   \n4718                                     123               61   \n8377                                     123               73   \n6455                                    1901               68   \n2506                                    1901               66   \n4088                                    1942               81   \n12495                                   1942               49   \n12397                                   1950               66   \n4663                                    1950               83   \n4924                                    1979               54   \n940                                     1979               19   \n1111                  1979 - Remastered 2012               76   \n2955                  1979 - Remastered 2012               47   \n8618                                    1985               70   \n8116                                    1985               61   \n8358                                    2002               87   \n11326                                   2002               85   \n...                                      ...              ...   \n4654                              Youngblood               89   \n15769                                Younger               62   \n13558                                Younger               76   \n791                                 Your Lov               72   \n4244                                Your Lov               80   \n14706                               Your Lov                0   \n16048                               Your Lov               49   \n10116                              Your Song               64   \n13966                              Your Song               80   \n16971                              Your Song               56   \n9586                                   Youth               65   \n15659                                  Youth               70   \n1219      ZEZE (feat. Travis Scott & Offset)               91   \n7435      ZEZE (feat. Travis Scott & Offset)               71   \n8407                                    Zomb               78   \n9433                                    Zomb                1   \n1092                                    Zomb               82   \n1755                                    Zomb               30   \n2612                                    Zomb               63   \n4748                              better off               51   \n4711                              better off               25   \n11719                                   brok               82   \n6469                                    brok               49   \n9629                                    brok                5   \n14817                                hometow               64   \n18016                                hometow               58   \n3406                                rockstar               31   \n3699                                rockstar               27   \n15670                    these are my friend               38   \n12388                    these are my friend               65   \n\n       song_duration_ms  acousticness  danceability  energy  instrumentalness  \\\n5614             205920      0.040000         0.699   0.713          0.000003   \n4644             205946      0.037500         0.703   0.696          0.000006   \n2229             308440      0.001250         0.368   0.928          0.001110   \n459              308120      0.002900         0.333   0.927          0.000211   \n660              280400      0.015800         0.625   0.726          0.000169   \n2306             278626      0.011900         0.632   0.727          0.000076   \n807              289680      0.047600         0.697   0.665          0.006650   \n2324             289066      0.087400         0.700   0.781          0.003420   \n16924            218160      0.976000         0.619   0.198          0.001910   \n2621             218160      0.976000         0.621   0.199          0.001860   \n397              229066      0.953000         0.624   0.158          0.001350   \n17273            166812      0.213000         0.650   0.323          0.000000   \n18398            250200      0.560000         0.622   0.593          0.000000   \n10003            250173      0.570000         0.620   0.574          0.000000   \n4718             190280      0.086600         0.707   0.676          0.000000   \n8377             190280      0.090100         0.707   0.674          0.000000   \n6455             193106      0.056400         0.604   0.825          0.000058   \n2506             193120      0.058800         0.607   0.835          0.000047   \n4088             213080      0.015200         0.817   0.646          0.000000   \n12495            213586      0.020200         0.821   0.629          0.000000   \n12397            225906      0.653000         0.559   0.530          0.000004   \n4663             225133      0.648000         0.600   0.535          0.000005   \n4924             284000      0.810000         0.688   0.367          0.000000   \n940              265893      0.021800         0.768   0.744          0.712000   \n1111             266200      0.016600         0.765   0.788          0.588000   \n2955             266200      0.016600         0.765   0.788          0.588000   \n8618             193000      0.000242         0.606   0.887          0.000000   \n8116             193000      0.000246         0.607   0.878          0.000000   \n8358             186986      0.037200         0.697   0.683          0.000000   \n11326            186986      0.037200         0.697   0.683          0.000000   \n...                 ...           ...           ...     ...               ...   \n4654             203417      0.016900         0.596   0.854          0.000000   \n15769            222120      0.064700         0.687   0.707          0.000004   \n13558            222320      0.202000         0.745   0.477          0.000000   \n791              221840      0.103000         0.555   0.757          0.000001   \n4244             185620      0.099700         0.571   0.937          0.496000   \n14706            190626      0.003680         0.661   0.874          0.030500   \n16048            295213      0.026900         0.355   0.821          0.000000   \n10116            256746      0.345000         0.486   0.486          0.000000   \n13966            180757      0.158000         0.855   0.624          0.000000   \n16971            256746      0.345000         0.486   0.486          0.000000   \n9586             253013      0.880000         0.402   0.539          0.006500   \n15659            230693      0.129000         0.648   0.718          0.001560   \n1219             225199      0.071000         0.826   0.615          0.000000   \n7435             225199      0.054300         0.832   0.607          0.000000   \n8407             254805      0.007560         0.448   0.826          0.000000   \n9433             246186      0.013500         0.546   0.911          0.000000   \n1092             306410      0.016300         0.299   0.613          0.003590   \n1755             745653      0.388000         0.704   0.942          0.014700   \n2612             246186      0.013300         0.546   0.912          0.000000   \n4748             191861      0.833000         0.691   0.343          0.000001   \n4711             192920      0.803000         0.720   0.316          0.000160   \n11719            204878      0.001750         0.666   0.728          0.000004   \n6469             204878      0.002360         0.667   0.716          0.000002   \n9629             204878      0.002360         0.667   0.716          0.000002   \n14817            256071      0.000621         0.315   0.826          0.000669   \n18016            256071      0.000621         0.315   0.826          0.000669   \n3406             218320      0.130000         0.575   0.535          0.000130   \n3699             218320      0.128000         0.580   0.531          0.000127   \n15670            208941      0.021000         0.615   0.734          0.000000   \n12388            208946      0.027800         0.617   0.732          0.000000   \n\n       key  liveness  loudness audio_mode  speechiness    tempo  \\\n5614     9    0.2940    -5.507          0       0.0594  121.993   \n4644     0    0.2740    -5.482          1       0.0529  121.969   \n2229     9    0.3010    -8.369          0       0.0593  141.175   \n459      9    0.2970    -8.550          0       0.0733  141.470   \n660     11    0.0625   -11.402          0       0.0444  124.945   \n2306    11    0.0678   -11.209          0       0.0438  124.919   \n807      6    0.0796   -12.907          0       0.0412  108.535   \n2324     6    0.0590    -8.255          0       0.0507  108.695   \n16924   10    0.1040   -13.808          1       0.0344  128.998   \n2621    10    0.1070   -13.788          1       0.0344  128.905   \n397      9    0.1120   -13.059          1       0.0289   85.492   \n17273    0    0.1870    -8.698          1       0.0283  110.962   \n18398    5    0.1750    -7.755          0       0.0414  100.048   \n10003    5    0.1900    -7.788          0       0.0479  100.021   \n4718     1    0.1250    -5.578          1       0.1760   95.027   \n8377     1    0.1150    -5.578          1       0.1770   95.020   \n6455     0    0.1920    -5.373          1       0.0429  144.085   \n2506     0    0.1950    -5.427          1       0.0415  144.087   \n4088     4    0.1250    -5.120          0       0.2490  162.898   \n12495    4    0.0925    -5.125          0       0.2710  162.973   \n12397    4    0.1170    -7.131          1       0.0941   71.857   \n4663     4    0.1620    -7.043          1       0.1070   71.912   \n4924     8    0.1020    -7.469          1       0.0270  119.969   \n940      8    0.0630   -11.267          1       0.0338  127.036   \n1111     3    0.0513    -9.896          1       0.0332  126.879   \n2955     3    0.0513    -9.896          1       0.0332  126.879   \n8618     4    0.3370    -4.404          1       0.0598  119.974   \n8116     4    0.3370    -4.422          1       0.0665  119.955   \n8358     1    0.1370    -2.881          0       0.1170   96.133   \n11326    1    0.1370    -2.881          0       0.1170   96.133   \n...    ...       ...       ...        ...          ...      ...   \n4654     7    0.1240    -5.114          0       0.4630  120.274   \n15769   11    0.0530    -5.441          1       0.0321  107.981   \n13558   11    0.1200    -7.706          0       0.0880  136.055   \n791      1    0.0631    -7.868          0       0.0601  129.607   \n4244     2    0.1250    -2.682          0       0.0336  125.027   \n14706    5    0.1440    -3.893          0       0.0433  160.027   \n16048    1    0.1210    -4.958          1       0.2370   92.591   \n10116    9    0.1390    -7.103          1       0.0290  128.768   \n13966    1    0.0513    -4.093          1       0.0488  117.959   \n16971    9    0.1390    -7.103          1       0.0290  128.768   \n9586     0    0.1170   -11.062          1       0.0430  146.526   \n15659    9    0.1120    -7.765          0       0.0298   96.017   \n1219     8    0.0965    -7.979          0       0.2190   98.056   \n7435     8    0.0967    -8.030          0       0.2270   98.051   \n8407     2    0.1170    -3.244          0       0.0319   77.093   \n9433     4    0.4930    -4.639          1       0.0729  145.205   \n1092     7    0.3680    -9.012          1       0.0347  166.960   \n1755     2    0.3020    -5.115          0       0.1710  131.690   \n2612     4    0.5520    -4.341          1       0.0633  145.053   \n4748     7    0.1320    -8.954          1       0.0387  150.922   \n4711     8    0.1540   -12.532          0       0.0414   98.925   \n11719    7    0.0429    -5.808          1       0.0419  122.996   \n6469     7    0.0421    -5.693          1       0.0478  122.976   \n9629     7    0.0421    -5.693          1       0.0478  122.976   \n14817    7    0.0703    -4.315          0       0.0644  139.163   \n18016    7    0.0703    -4.315          0       0.0644  139.163   \n3406     5    0.1430    -6.637          0       0.0776  159.764   \n3699     5    0.1430    -6.631          0       0.0776  159.786   \n15670   11    0.1530    -6.657          0       0.0272   84.978   \n12388   11    0.1250    -6.737          0       0.0278   84.977   \n\n      time_signature  audio_valence  \n5614               4          0.354  \n4644               4          0.366  \n2229               4          0.532  \n459                4          0.382  \n660                4          0.507  \n2306               4          0.499  \n807                4          0.485  \n2324               4          0.385  \n16924              4          0.179  \n2621               4          0.178  \n397                3          0.303  \n17273              3          0.276  \n18398              4          0.369  \n10003              4          0.352  \n4718               4          0.930  \n8377               4          0.928  \n6455               4          0.707  \n2506               4          0.719  \n4088               4          0.835  \n12495              4          0.816  \n12397              4          0.256  \n4663               4          0.269  \n4924               4          0.213  \n940                4          0.963  \n1111               4          0.964  \n2955               4          0.964  \n8618               4          0.903  \n8116               4          0.853  \n8358               4          0.603  \n11326              4          0.603  \n...              ...            ...  \n4654               4          0.152  \n15769              4          0.686  \n13558              4          0.454  \n791                4          0.582  \n4244               4          0.512  \n14706              4          0.897  \n16048              4          0.413  \n10116              4          0.184  \n13966              4          0.962  \n16971              4          0.184  \n9586               4          0.371  \n15659              4          0.785  \n1219               4          0.543  \n7435               4          0.570  \n8407               4          0.190  \n9433               4          0.678  \n1092               4          0.306  \n1755               4          0.584  \n2612               4          0.709  \n4748               3          0.441  \n4711               4          0.442  \n11719              4          0.510  \n6469               4          0.440  \n9629               4          0.440  \n14817              4          0.359  \n18016              4          0.359  \n3406               4          0.127  \n3699               4          0.141  \n15670              4          0.709  \n12388              4          0.723  \n\n[3432 rows x 15 columns]",
      "text/html": "<div>\n<style scoped>\n    .dataframe tbody tr th:only-of-type {\n        vertical-align: middle;\n    }\n\n    .dataframe tbody tr th {\n        vertical-align: top;\n    }\n\n    .dataframe thead th {\n        text-align: right;\n    }\n</style>\n<table border=\"1\" class=\"dataframe\">\n  <thead>\n    <tr style=\"text-align: right;\">\n      <th></th>\n      <th>song_name</th>\n      <th>song_popularity</th>\n      <th>song_duration_ms</th>\n      <th>acousticness</th>\n      <th>danceability</th>\n      <th>energy</th>\n      <th>instrumentalness</th>\n      <th>key</th>\n      <th>liveness</th>\n      <th>loudness</th>\n      <th>audio_mode</th>\n      <th>speechiness</th>\n      <th>tempo</th>\n      <th>time_signature</th>\n      <th>audio_valence</th>\n    </tr>\n  </thead>\n  <tbody>\n    <tr>\n      <th>5614</th>\n      <td>tears left to cry</td>\n      <td>92</td>\n      <td>205920</td>\n      <td>0.040000</td>\n      <td>0.699</td>\n      <td>0.713</td>\n      <td>0.000003</td>\n      <td>9</td>\n      <td>0.2940</td>\n      <td>-5.507</td>\n      <td>0</td>\n      <td>0.0594</td>\n      <td>121.993</td>\n      <td>4</td>\n      <td>0.354</td>\n    </tr>\n    <tr>\n      <th>4644</th>\n      <td>tears left to cry</td>\n      <td>74</td>\n      <td>205946</td>\n      <td>0.037500</td>\n      <td>0.703</td>\n      <td>0.696</td>\n      <td>0.000006</td>\n      <td>0</td>\n      <td>0.2740</td>\n      <td>-5.482</td>\n      <td>1</td>\n      <td>0.0529</td>\n      <td>121.969</td>\n      <td>4</td>\n      <td>0.366</td>\n    </tr>\n    <tr>\n      <th>2229</th>\n      <td>(Don't Fear) The Reaper</td>\n      <td>19</td>\n      <td>308440</td>\n      <td>0.001250</td>\n      <td>0.368</td>\n      <td>0.928</td>\n      <td>0.001110</td>\n      <td>9</td>\n      <td>0.3010</td>\n      <td>-8.369</td>\n      <td>0</td>\n      <td>0.0593</td>\n      <td>141.175</td>\n      <td>4</td>\n      <td>0.532</td>\n    </tr>\n    <tr>\n      <th>459</th>\n      <td>(Don't Fear) The Reaper</td>\n      <td>76</td>\n      <td>308120</td>\n      <td>0.002900</td>\n      <td>0.333</td>\n      <td>0.927</td>\n      <td>0.000211</td>\n      <td>9</td>\n      <td>0.2970</td>\n      <td>-8.550</td>\n      <td>0</td>\n      <td>0.0733</td>\n      <td>141.470</td>\n      <td>4</td>\n      <td>0.382</td>\n    </tr>\n    <tr>\n      <th>660</th>\n      <td>(I Just) Died In Your Arm</td>\n      <td>69</td>\n      <td>280400</td>\n      <td>0.015800</td>\n      <td>0.625</td>\n      <td>0.726</td>\n      <td>0.000169</td>\n      <td>11</td>\n      <td>0.0625</td>\n      <td>-11.402</td>\n      <td>0</td>\n      <td>0.0444</td>\n      <td>124.945</td>\n      <td>4</td>\n      <td>0.507</td>\n    </tr>\n    <tr>\n      <th>2306</th>\n      <td>(I Just) Died In Your Arm</td>\n      <td>72</td>\n      <td>278626</td>\n      <td>0.011900</td>\n      <td>0.632</td>\n      <td>0.727</td>\n      <td>0.000076</td>\n      <td>11</td>\n      <td>0.0678</td>\n      <td>-11.209</td>\n      <td>0</td>\n      <td>0.0438</td>\n      <td>124.919</td>\n      <td>4</td>\n      <td>0.499</td>\n    </tr>\n    <tr>\n      <th>807</th>\n      <td>(I've Had) The Time of My Lif</td>\n      <td>21</td>\n      <td>289680</td>\n      <td>0.047600</td>\n      <td>0.697</td>\n      <td>0.665</td>\n      <td>0.006650</td>\n      <td>6</td>\n      <td>0.0796</td>\n      <td>-12.907</td>\n      <td>0</td>\n      <td>0.0412</td>\n      <td>108.535</td>\n      <td>4</td>\n      <td>0.485</td>\n    </tr>\n    <tr>\n      <th>2324</th>\n      <td>(I've Had) The Time of My Lif</td>\n      <td>63</td>\n      <td>289066</td>\n      <td>0.087400</td>\n      <td>0.700</td>\n      <td>0.781</td>\n      <td>0.003420</td>\n      <td>6</td>\n      <td>0.0590</td>\n      <td>-8.255</td>\n      <td>0</td>\n      <td>0.0507</td>\n      <td>108.695</td>\n      <td>4</td>\n      <td>0.385</td>\n    </tr>\n    <tr>\n      <th>16924</th>\n      <td>(No One Knows Me) Like the P</td>\n      <td>19</td>\n      <td>218160</td>\n      <td>0.976000</td>\n      <td>0.619</td>\n      <td>0.198</td>\n      <td>0.001910</td>\n      <td>10</td>\n      <td>0.1040</td>\n      <td>-13.808</td>\n      <td>1</td>\n      <td>0.0344</td>\n      <td>128.998</td>\n      <td>4</td>\n      <td>0.179</td>\n    </tr>\n    <tr>\n      <th>2621</th>\n      <td>(No One Knows Me) Like the P</td>\n      <td>67</td>\n      <td>218160</td>\n      <td>0.976000</td>\n      <td>0.621</td>\n      <td>0.199</td>\n      <td>0.001860</td>\n      <td>10</td>\n      <td>0.1070</td>\n      <td>-13.788</td>\n      <td>1</td>\n      <td>0.0344</td>\n      <td>128.905</td>\n      <td>4</td>\n      <td>0.178</td>\n    </tr>\n    <tr>\n      <th>397</th>\n      <td>(You Make Me Feel Like) A Natural Wom</td>\n      <td>62</td>\n      <td>229066</td>\n      <td>0.953000</td>\n      <td>0.624</td>\n      <td>0.158</td>\n      <td>0.001350</td>\n      <td>9</td>\n      <td>0.1120</td>\n      <td>-13.059</td>\n      <td>1</td>\n      <td>0.0289</td>\n      <td>85.492</td>\n      <td>3</td>\n      <td>0.303</td>\n    </tr>\n    <tr>\n      <th>17273</th>\n      <td>(You Make Me Feel Like) A Natural Wom</td>\n      <td>71</td>\n      <td>166812</td>\n      <td>0.213000</td>\n      <td>0.650</td>\n      <td>0.323</td>\n      <td>0.000000</td>\n      <td>0</td>\n      <td>0.1870</td>\n      <td>-8.698</td>\n      <td>1</td>\n      <td>0.0283</td>\n      <td>110.962</td>\n      <td>3</td>\n      <td>0.276</td>\n    </tr>\n    <tr>\n      <th>18398</th>\n      <td>1-800-273-8255</td>\n      <td>8</td>\n      <td>250200</td>\n      <td>0.560000</td>\n      <td>0.622</td>\n      <td>0.593</td>\n      <td>0.000000</td>\n      <td>5</td>\n      <td>0.1750</td>\n      <td>-7.755</td>\n      <td>0</td>\n      <td>0.0414</td>\n      <td>100.048</td>\n      <td>4</td>\n      <td>0.369</td>\n    </tr>\n    <tr>\n      <th>10003</th>\n      <td>1-800-273-8255</td>\n      <td>86</td>\n      <td>250173</td>\n      <td>0.570000</td>\n      <td>0.620</td>\n      <td>0.574</td>\n      <td>0.000000</td>\n      <td>5</td>\n      <td>0.1900</td>\n      <td>-7.788</td>\n      <td>0</td>\n      <td>0.0479</td>\n      <td>100.021</td>\n      <td>4</td>\n      <td>0.352</td>\n    </tr>\n    <tr>\n      <th>4718</th>\n      <td>123</td>\n      <td>61</td>\n      <td>190280</td>\n      <td>0.086600</td>\n      <td>0.707</td>\n      <td>0.676</td>\n      <td>0.000000</td>\n      <td>1</td>\n      <td>0.1250</td>\n      <td>-5.578</td>\n      <td>1</td>\n      <td>0.1760</td>\n      <td>95.027</td>\n      <td>4</td>\n      <td>0.930</td>\n    </tr>\n    <tr>\n      <th>8377</th>\n      <td>123</td>\n      <td>73</td>\n      <td>190280</td>\n      <td>0.090100</td>\n      <td>0.707</td>\n      <td>0.674</td>\n      <td>0.000000</td>\n      <td>1</td>\n      <td>0.1150</td>\n      <td>-5.578</td>\n      <td>1</td>\n      <td>0.1770</td>\n      <td>95.020</td>\n      <td>4</td>\n      <td>0.928</td>\n    </tr>\n    <tr>\n      <th>6455</th>\n      <td>1901</td>\n      <td>68</td>\n      <td>193106</td>\n      <td>0.056400</td>\n      <td>0.604</td>\n      <td>0.825</td>\n      <td>0.000058</td>\n      <td>0</td>\n      <td>0.1920</td>\n      <td>-5.373</td>\n      <td>1</td>\n      <td>0.0429</td>\n      <td>144.085</td>\n      <td>4</td>\n      <td>0.707</td>\n    </tr>\n    <tr>\n      <th>2506</th>\n      <td>1901</td>\n      <td>66</td>\n      <td>193120</td>\n      <td>0.058800</td>\n      <td>0.607</td>\n      <td>0.835</td>\n      <td>0.000047</td>\n      <td>0</td>\n      <td>0.1950</td>\n      <td>-5.427</td>\n      <td>1</td>\n      <td>0.0415</td>\n      <td>144.087</td>\n      <td>4</td>\n      <td>0.719</td>\n    </tr>\n    <tr>\n      <th>4088</th>\n      <td>1942</td>\n      <td>81</td>\n      <td>213080</td>\n      <td>0.015200</td>\n      <td>0.817</td>\n      <td>0.646</td>\n      <td>0.000000</td>\n      <td>4</td>\n      <td>0.1250</td>\n      <td>-5.120</td>\n      <td>0</td>\n      <td>0.2490</td>\n      <td>162.898</td>\n      <td>4</td>\n      <td>0.835</td>\n    </tr>\n    <tr>\n      <th>12495</th>\n      <td>1942</td>\n      <td>49</td>\n      <td>213586</td>\n      <td>0.020200</td>\n      <td>0.821</td>\n      <td>0.629</td>\n      <td>0.000000</td>\n      <td>4</td>\n      <td>0.0925</td>\n      <td>-5.125</td>\n      <td>0</td>\n      <td>0.2710</td>\n      <td>162.973</td>\n      <td>4</td>\n      <td>0.816</td>\n    </tr>\n    <tr>\n      <th>12397</th>\n      <td>1950</td>\n      <td>66</td>\n      <td>225906</td>\n      <td>0.653000</td>\n      <td>0.559</td>\n      <td>0.530</td>\n      <td>0.000004</td>\n      <td>4</td>\n      <td>0.1170</td>\n      <td>-7.131</td>\n      <td>1</td>\n      <td>0.0941</td>\n      <td>71.857</td>\n      <td>4</td>\n      <td>0.256</td>\n    </tr>\n    <tr>\n      <th>4663</th>\n      <td>1950</td>\n      <td>83</td>\n      <td>225133</td>\n      <td>0.648000</td>\n      <td>0.600</td>\n      <td>0.535</td>\n      <td>0.000005</td>\n      <td>4</td>\n      <td>0.1620</td>\n      <td>-7.043</td>\n      <td>1</td>\n      <td>0.1070</td>\n      <td>71.912</td>\n      <td>4</td>\n      <td>0.269</td>\n    </tr>\n    <tr>\n      <th>4924</th>\n      <td>1979</td>\n      <td>54</td>\n      <td>284000</td>\n      <td>0.810000</td>\n      <td>0.688</td>\n      <td>0.367</td>\n      <td>0.000000</td>\n      <td>8</td>\n      <td>0.1020</td>\n      <td>-7.469</td>\n      <td>1</td>\n      <td>0.0270</td>\n      <td>119.969</td>\n      <td>4</td>\n      <td>0.213</td>\n    </tr>\n    <tr>\n      <th>940</th>\n      <td>1979</td>\n      <td>19</td>\n      <td>265893</td>\n      <td>0.021800</td>\n      <td>0.768</td>\n      <td>0.744</td>\n      <td>0.712000</td>\n      <td>8</td>\n      <td>0.0630</td>\n      <td>-11.267</td>\n      <td>1</td>\n      <td>0.0338</td>\n      <td>127.036</td>\n      <td>4</td>\n      <td>0.963</td>\n    </tr>\n    <tr>\n      <th>1111</th>\n      <td>1979 - Remastered 2012</td>\n      <td>76</td>\n      <td>266200</td>\n      <td>0.016600</td>\n      <td>0.765</td>\n      <td>0.788</td>\n      <td>0.588000</td>\n      <td>3</td>\n      <td>0.0513</td>\n      <td>-9.896</td>\n      <td>1</td>\n      <td>0.0332</td>\n      <td>126.879</td>\n      <td>4</td>\n      <td>0.964</td>\n    </tr>\n    <tr>\n      <th>2955</th>\n      <td>1979 - Remastered 2012</td>\n      <td>47</td>\n      <td>266200</td>\n      <td>0.016600</td>\n      <td>0.765</td>\n      <td>0.788</td>\n      <td>0.588000</td>\n      <td>3</td>\n      <td>0.0513</td>\n      <td>-9.896</td>\n      <td>1</td>\n      <td>0.0332</td>\n      <td>126.879</td>\n      <td>4</td>\n      <td>0.964</td>\n    </tr>\n    <tr>\n      <th>8618</th>\n      <td>1985</td>\n      <td>70</td>\n      <td>193000</td>\n      <td>0.000242</td>\n      <td>0.606</td>\n      <td>0.887</td>\n      <td>0.000000</td>\n      <td>4</td>\n      <td>0.3370</td>\n      <td>-4.404</td>\n      <td>1</td>\n      <td>0.0598</td>\n      <td>119.974</td>\n      <td>4</td>\n      <td>0.903</td>\n    </tr>\n    <tr>\n      <th>8116</th>\n      <td>1985</td>\n      <td>61</td>\n      <td>193000</td>\n      <td>0.000246</td>\n      <td>0.607</td>\n      <td>0.878</td>\n      <td>0.000000</td>\n      <td>4</td>\n      <td>0.3370</td>\n      <td>-4.422</td>\n      <td>1</td>\n      <td>0.0665</td>\n      <td>119.955</td>\n      <td>4</td>\n      <td>0.853</td>\n    </tr>\n    <tr>\n      <th>8358</th>\n      <td>2002</td>\n      <td>87</td>\n      <td>186986</td>\n      <td>0.037200</td>\n      <td>0.697</td>\n      <td>0.683</td>\n      <td>0.000000</td>\n      <td>1</td>\n      <td>0.1370</td>\n      <td>-2.881</td>\n      <td>0</td>\n      <td>0.1170</td>\n      <td>96.133</td>\n      <td>4</td>\n      <td>0.603</td>\n    </tr>\n    <tr>\n      <th>11326</th>\n      <td>2002</td>\n      <td>85</td>\n      <td>186986</td>\n      <td>0.037200</td>\n      <td>0.697</td>\n      <td>0.683</td>\n      <td>0.000000</td>\n      <td>1</td>\n      <td>0.1370</td>\n      <td>-2.881</td>\n      <td>0</td>\n      <td>0.1170</td>\n      <td>96.133</td>\n      <td>4</td>\n      <td>0.603</td>\n    </tr>\n    <tr>\n      <th>...</th>\n      <td>...</td>\n      <td>...</td>\n      <td>...</td>\n      <td>...</td>\n      <td>...</td>\n      <td>...</td>\n      <td>...</td>\n      <td>...</td>\n      <td>...</td>\n      <td>...</td>\n      <td>...</td>\n      <td>...</td>\n      <td>...</td>\n      <td>...</td>\n      <td>...</td>\n    </tr>\n    <tr>\n      <th>4654</th>\n      <td>Youngblood</td>\n      <td>89</td>\n      <td>203417</td>\n      <td>0.016900</td>\n      <td>0.596</td>\n      <td>0.854</td>\n      <td>0.000000</td>\n      <td>7</td>\n      <td>0.1240</td>\n      <td>-5.114</td>\n      <td>0</td>\n      <td>0.4630</td>\n      <td>120.274</td>\n      <td>4</td>\n      <td>0.152</td>\n    </tr>\n    <tr>\n      <th>15769</th>\n      <td>Younger</td>\n      <td>62</td>\n      <td>222120</td>\n      <td>0.064700</td>\n      <td>0.687</td>\n      <td>0.707</td>\n      <td>0.000004</td>\n      <td>11</td>\n      <td>0.0530</td>\n      <td>-5.441</td>\n      <td>1</td>\n      <td>0.0321</td>\n      <td>107.981</td>\n      <td>4</td>\n      <td>0.686</td>\n    </tr>\n    <tr>\n      <th>13558</th>\n      <td>Younger</td>\n      <td>76</td>\n      <td>222320</td>\n      <td>0.202000</td>\n      <td>0.745</td>\n      <td>0.477</td>\n      <td>0.000000</td>\n      <td>11</td>\n      <td>0.1200</td>\n      <td>-7.706</td>\n      <td>0</td>\n      <td>0.0880</td>\n      <td>136.055</td>\n      <td>4</td>\n      <td>0.454</td>\n    </tr>\n    <tr>\n      <th>791</th>\n      <td>Your Lov</td>\n      <td>72</td>\n      <td>221840</td>\n      <td>0.103000</td>\n      <td>0.555</td>\n      <td>0.757</td>\n      <td>0.000001</td>\n      <td>1</td>\n      <td>0.0631</td>\n      <td>-7.868</td>\n      <td>0</td>\n      <td>0.0601</td>\n      <td>129.607</td>\n      <td>4</td>\n      <td>0.582</td>\n    </tr>\n    <tr>\n      <th>4244</th>\n      <td>Your Lov</td>\n      <td>80</td>\n      <td>185620</td>\n      <td>0.099700</td>\n      <td>0.571</td>\n      <td>0.937</td>\n      <td>0.496000</td>\n      <td>2</td>\n      <td>0.1250</td>\n      <td>-2.682</td>\n      <td>0</td>\n      <td>0.0336</td>\n      <td>125.027</td>\n      <td>4</td>\n      <td>0.512</td>\n    </tr>\n    <tr>\n      <th>14706</th>\n      <td>Your Lov</td>\n      <td>0</td>\n      <td>190626</td>\n      <td>0.003680</td>\n      <td>0.661</td>\n      <td>0.874</td>\n      <td>0.030500</td>\n      <td>5</td>\n      <td>0.1440</td>\n      <td>-3.893</td>\n      <td>0</td>\n      <td>0.0433</td>\n      <td>160.027</td>\n      <td>4</td>\n      <td>0.897</td>\n    </tr>\n    <tr>\n      <th>16048</th>\n      <td>Your Lov</td>\n      <td>49</td>\n      <td>295213</td>\n      <td>0.026900</td>\n      <td>0.355</td>\n      <td>0.821</td>\n      <td>0.000000</td>\n      <td>1</td>\n      <td>0.1210</td>\n      <td>-4.958</td>\n      <td>1</td>\n      <td>0.2370</td>\n      <td>92.591</td>\n      <td>4</td>\n      <td>0.413</td>\n    </tr>\n    <tr>\n      <th>10116</th>\n      <td>Your Song</td>\n      <td>64</td>\n      <td>256746</td>\n      <td>0.345000</td>\n      <td>0.486</td>\n      <td>0.486</td>\n      <td>0.000000</td>\n      <td>9</td>\n      <td>0.1390</td>\n      <td>-7.103</td>\n      <td>1</td>\n      <td>0.0290</td>\n      <td>128.768</td>\n      <td>4</td>\n      <td>0.184</td>\n    </tr>\n    <tr>\n      <th>13966</th>\n      <td>Your Song</td>\n      <td>80</td>\n      <td>180757</td>\n      <td>0.158000</td>\n      <td>0.855</td>\n      <td>0.624</td>\n      <td>0.000000</td>\n      <td>1</td>\n      <td>0.0513</td>\n      <td>-4.093</td>\n      <td>1</td>\n      <td>0.0488</td>\n      <td>117.959</td>\n      <td>4</td>\n      <td>0.962</td>\n    </tr>\n    <tr>\n      <th>16971</th>\n      <td>Your Song</td>\n      <td>56</td>\n      <td>256746</td>\n      <td>0.345000</td>\n      <td>0.486</td>\n      <td>0.486</td>\n      <td>0.000000</td>\n      <td>9</td>\n      <td>0.1390</td>\n      <td>-7.103</td>\n      <td>1</td>\n      <td>0.0290</td>\n      <td>128.768</td>\n      <td>4</td>\n      <td>0.184</td>\n    </tr>\n    <tr>\n      <th>9586</th>\n      <td>Youth</td>\n      <td>65</td>\n      <td>253013</td>\n      <td>0.880000</td>\n      <td>0.402</td>\n      <td>0.539</td>\n      <td>0.006500</td>\n      <td>0</td>\n      <td>0.1170</td>\n      <td>-11.062</td>\n      <td>1</td>\n      <td>0.0430</td>\n      <td>146.526</td>\n      <td>4</td>\n      <td>0.371</td>\n    </tr>\n    <tr>\n      <th>15659</th>\n      <td>Youth</td>\n      <td>70</td>\n      <td>230693</td>\n      <td>0.129000</td>\n      <td>0.648</td>\n      <td>0.718</td>\n      <td>0.001560</td>\n      <td>9</td>\n      <td>0.1120</td>\n      <td>-7.765</td>\n      <td>0</td>\n      <td>0.0298</td>\n      <td>96.017</td>\n      <td>4</td>\n      <td>0.785</td>\n    </tr>\n    <tr>\n      <th>1219</th>\n      <td>ZEZE (feat. Travis Scott &amp; Offset)</td>\n      <td>91</td>\n      <td>225199</td>\n      <td>0.071000</td>\n      <td>0.826</td>\n      <td>0.615</td>\n      <td>0.000000</td>\n      <td>8</td>\n      <td>0.0965</td>\n      <td>-7.979</td>\n      <td>0</td>\n      <td>0.2190</td>\n      <td>98.056</td>\n      <td>4</td>\n      <td>0.543</td>\n    </tr>\n    <tr>\n      <th>7435</th>\n      <td>ZEZE (feat. Travis Scott &amp; Offset)</td>\n      <td>71</td>\n      <td>225199</td>\n      <td>0.054300</td>\n      <td>0.832</td>\n      <td>0.607</td>\n      <td>0.000000</td>\n      <td>8</td>\n      <td>0.0967</td>\n      <td>-8.030</td>\n      <td>0</td>\n      <td>0.2270</td>\n      <td>98.051</td>\n      <td>4</td>\n      <td>0.570</td>\n    </tr>\n    <tr>\n      <th>8407</th>\n      <td>Zomb</td>\n      <td>78</td>\n      <td>254805</td>\n      <td>0.007560</td>\n      <td>0.448</td>\n      <td>0.826</td>\n      <td>0.000000</td>\n      <td>2</td>\n      <td>0.1170</td>\n      <td>-3.244</td>\n      <td>0</td>\n      <td>0.0319</td>\n      <td>77.093</td>\n      <td>4</td>\n      <td>0.190</td>\n    </tr>\n    <tr>\n      <th>9433</th>\n      <td>Zomb</td>\n      <td>1</td>\n      <td>246186</td>\n      <td>0.013500</td>\n      <td>0.546</td>\n      <td>0.911</td>\n      <td>0.000000</td>\n      <td>4</td>\n      <td>0.4930</td>\n      <td>-4.639</td>\n      <td>1</td>\n      <td>0.0729</td>\n      <td>145.205</td>\n      <td>4</td>\n      <td>0.678</td>\n    </tr>\n    <tr>\n      <th>1092</th>\n      <td>Zomb</td>\n      <td>82</td>\n      <td>306410</td>\n      <td>0.016300</td>\n      <td>0.299</td>\n      <td>0.613</td>\n      <td>0.003590</td>\n      <td>7</td>\n      <td>0.3680</td>\n      <td>-9.012</td>\n      <td>1</td>\n      <td>0.0347</td>\n      <td>166.960</td>\n      <td>4</td>\n      <td>0.306</td>\n    </tr>\n    <tr>\n      <th>1755</th>\n      <td>Zomb</td>\n      <td>30</td>\n      <td>745653</td>\n      <td>0.388000</td>\n      <td>0.704</td>\n      <td>0.942</td>\n      <td>0.014700</td>\n      <td>2</td>\n      <td>0.3020</td>\n      <td>-5.115</td>\n      <td>0</td>\n      <td>0.1710</td>\n      <td>131.690</td>\n      <td>4</td>\n      <td>0.584</td>\n    </tr>\n    <tr>\n      <th>2612</th>\n      <td>Zomb</td>\n      <td>63</td>\n      <td>246186</td>\n      <td>0.013300</td>\n      <td>0.546</td>\n      <td>0.912</td>\n      <td>0.000000</td>\n      <td>4</td>\n      <td>0.5520</td>\n      <td>-4.341</td>\n      <td>1</td>\n      <td>0.0633</td>\n      <td>145.053</td>\n      <td>4</td>\n      <td>0.709</td>\n    </tr>\n    <tr>\n      <th>4748</th>\n      <td>better off</td>\n      <td>51</td>\n      <td>191861</td>\n      <td>0.833000</td>\n      <td>0.691</td>\n      <td>0.343</td>\n      <td>0.000001</td>\n      <td>7</td>\n      <td>0.1320</td>\n      <td>-8.954</td>\n      <td>1</td>\n      <td>0.0387</td>\n      <td>150.922</td>\n      <td>3</td>\n      <td>0.441</td>\n    </tr>\n    <tr>\n      <th>4711</th>\n      <td>better off</td>\n      <td>25</td>\n      <td>192920</td>\n      <td>0.803000</td>\n      <td>0.720</td>\n      <td>0.316</td>\n      <td>0.000160</td>\n      <td>8</td>\n      <td>0.1540</td>\n      <td>-12.532</td>\n      <td>0</td>\n      <td>0.0414</td>\n      <td>98.925</td>\n      <td>4</td>\n      <td>0.442</td>\n    </tr>\n    <tr>\n      <th>11719</th>\n      <td>brok</td>\n      <td>82</td>\n      <td>204878</td>\n      <td>0.001750</td>\n      <td>0.666</td>\n      <td>0.728</td>\n      <td>0.000004</td>\n      <td>7</td>\n      <td>0.0429</td>\n      <td>-5.808</td>\n      <td>1</td>\n      <td>0.0419</td>\n      <td>122.996</td>\n      <td>4</td>\n      <td>0.510</td>\n    </tr>\n    <tr>\n      <th>6469</th>\n      <td>brok</td>\n      <td>49</td>\n      <td>204878</td>\n      <td>0.002360</td>\n      <td>0.667</td>\n      <td>0.716</td>\n      <td>0.000002</td>\n      <td>7</td>\n      <td>0.0421</td>\n      <td>-5.693</td>\n      <td>1</td>\n      <td>0.0478</td>\n      <td>122.976</td>\n      <td>4</td>\n      <td>0.440</td>\n    </tr>\n    <tr>\n      <th>9629</th>\n      <td>brok</td>\n      <td>5</td>\n      <td>204878</td>\n      <td>0.002360</td>\n      <td>0.667</td>\n      <td>0.716</td>\n      <td>0.000002</td>\n      <td>7</td>\n      <td>0.0421</td>\n      <td>-5.693</td>\n      <td>1</td>\n      <td>0.0478</td>\n      <td>122.976</td>\n      <td>4</td>\n      <td>0.440</td>\n    </tr>\n    <tr>\n      <th>14817</th>\n      <td>hometow</td>\n      <td>64</td>\n      <td>256071</td>\n      <td>0.000621</td>\n      <td>0.315</td>\n      <td>0.826</td>\n      <td>0.000669</td>\n      <td>7</td>\n      <td>0.0703</td>\n      <td>-4.315</td>\n      <td>0</td>\n      <td>0.0644</td>\n      <td>139.163</td>\n      <td>4</td>\n      <td>0.359</td>\n    </tr>\n    <tr>\n      <th>18016</th>\n      <td>hometow</td>\n      <td>58</td>\n      <td>256071</td>\n      <td>0.000621</td>\n      <td>0.315</td>\n      <td>0.826</td>\n      <td>0.000669</td>\n      <td>7</td>\n      <td>0.0703</td>\n      <td>-4.315</td>\n      <td>0</td>\n      <td>0.0644</td>\n      <td>139.163</td>\n      <td>4</td>\n      <td>0.359</td>\n    </tr>\n    <tr>\n      <th>3406</th>\n      <td>rockstar</td>\n      <td>31</td>\n      <td>218320</td>\n      <td>0.130000</td>\n      <td>0.575</td>\n      <td>0.535</td>\n      <td>0.000130</td>\n      <td>5</td>\n      <td>0.1430</td>\n      <td>-6.637</td>\n      <td>0</td>\n      <td>0.0776</td>\n      <td>159.764</td>\n      <td>4</td>\n      <td>0.127</td>\n    </tr>\n    <tr>\n      <th>3699</th>\n      <td>rockstar</td>\n      <td>27</td>\n      <td>218320</td>\n      <td>0.128000</td>\n      <td>0.580</td>\n      <td>0.531</td>\n      <td>0.000127</td>\n      <td>5</td>\n      <td>0.1430</td>\n      <td>-6.631</td>\n      <td>0</td>\n      <td>0.0776</td>\n      <td>159.786</td>\n      <td>4</td>\n      <td>0.141</td>\n    </tr>\n    <tr>\n      <th>15670</th>\n      <td>these are my friend</td>\n      <td>38</td>\n      <td>208941</td>\n      <td>0.021000</td>\n      <td>0.615</td>\n      <td>0.734</td>\n      <td>0.000000</td>\n      <td>11</td>\n      <td>0.1530</td>\n      <td>-6.657</td>\n      <td>0</td>\n      <td>0.0272</td>\n      <td>84.978</td>\n      <td>4</td>\n      <td>0.709</td>\n    </tr>\n    <tr>\n      <th>12388</th>\n      <td>these are my friend</td>\n      <td>65</td>\n      <td>208946</td>\n      <td>0.027800</td>\n      <td>0.617</td>\n      <td>0.732</td>\n      <td>0.000000</td>\n      <td>11</td>\n      <td>0.1250</td>\n      <td>-6.737</td>\n      <td>0</td>\n      <td>0.0278</td>\n      <td>84.977</td>\n      <td>4</td>\n      <td>0.723</td>\n    </tr>\n  </tbody>\n</table>\n<p>3432 rows × 15 columns</p>\n</div>"
     },
     "metadata": {},
     "execution_count": 111
    }
   ],
   "source": [
    "# Retirando duplicados completos\n",
    "df.drop_duplicates(inplace = True)\n",
    "\n",
    "# Analisando nomes duplicados\n",
    "duplicates = df.duplicated(subset = \"song_name\", keep = False)\n",
    "df[duplicates].sort_values(by = \"song_name\")"
   ]
  },
  {
   "cell_type": "code",
   "execution_count": 113,
   "metadata": {},
   "outputs": [
    {
     "output_type": "stream",
     "name": "stdout",
     "text": "3903\n"
    }
   ],
   "source": [
    "depois1 = len(df)\n",
    "print(antes - depois1)"
   ]
  },
  {
   "cell_type": "markdown",
   "metadata": {},
   "source": [
    "A questão dos duplicados se tratando de música é um tanto singular. Vemos que há várias linhas com mesmo nome, porém demais valores diferentes. Isso provavelmente se deve ao fato de haver músicas distintas com o mesmo nome ou versões diferentes da mesma música. No entanto, seria difícil músicas ou versão diferentes terem todos os valores exatamente iguais, por isso exclui duplicados completos com *.drop_duplicates()*. Por enquanto, 3903 linhas duplicadas foram retiradas.\n",
    "\n",
    "Pode haver também duplicados não excluidos com *.drop_duplicates()* devido a pequenas variações nos floats ou na duração, já que ela está em milissegundos."
   ]
  },
  {
   "cell_type": "code",
   "execution_count": 115,
   "metadata": {},
   "outputs": [
    {
     "output_type": "execute_result",
     "data": {
      "text/plain": "                         song_name  song_popularity  song_duration_ms  \\\n11960  Always Remember Us This Way               79            210200   \n5910   Always Remember Us This Way               79            210200   \n15407                         Amig               45            279946   \n4194                          Amig               45            205133   \n16819                     Believer               23            204346   \n11342                     Believer               23            203782   \n7873                           Bod               55            192999   \n18681                          Bod               55            192999   \n1864                  Crazy in Lov               65            249106   \n1383                  Crazy in Lov               65            227500   \n824           Cum on Feel the Noiz               68            290960   \n542           Cum on Feel the Noiz               68            287400   \n7174                   Love No Mor               68            168635   \n11879                  Love No Mor               68            168635   \n6086                Pretty in Pink               53            239960   \n2871                Pretty in Pink               53            238106   \n18117                   Promiscuou               67            242200   \n8606                    Promiscuou               67            242373   \n10835            Set Fire to the R               75            242973   \n15795            Set Fire to the R               75            241693   \n12991             Steady, As She G               64            215266   \n49                Steady, As She G               64            215266   \n\n       acousticness  danceability  energy  instrumentalness  key  liveness  \\\n11960      0.299000         0.553   0.502          0.000000    0    0.7640   \n5910       0.299000         0.541   0.522          0.000000    0    0.7750   \n15407      0.747000         0.529   0.648          0.000000   11    0.1580   \n4194       0.187000         0.582   0.668          0.000000   11    0.1140   \n16819      0.051200         0.772   0.780          0.000000   10    0.1190   \n11342      0.041700         0.772   0.775          0.000000   10    0.2260   \n7873       0.301000         0.619   0.843          0.000000    2    0.0538   \n18681      0.309000         0.620   0.841          0.000000    2    0.0538   \n1864       0.000553         0.646   0.720          0.000008    7    0.0556   \n1383       0.868000         0.606   0.326          0.000000    7    0.1200   \n824        0.007190         0.409   0.920          0.001050   11    0.0823   \n542        0.000183         0.441   0.908          0.003280   11    0.0612   \n7174       0.020300         0.768   0.673          0.000045    0    0.2580   \n11879      0.021600         0.767   0.674          0.000059    0    0.2570   \n6086       0.117000         0.376   0.885          0.010400    2    0.2960   \n2871       0.105000         0.386   0.916          0.009910    2    0.3250   \n18117      0.050000         0.813   0.977          0.000028   10    0.1470   \n8606       0.053600         0.807   0.970          0.000066   10    0.1490   \n10835      0.004080         0.603   0.670          0.000002    2    0.1120   \n15795      0.003820         0.610   0.683          0.000002    2    0.1250   \n12991      0.008650         0.534   0.605          0.008260    9    0.0781   \n49         0.013200         0.524   0.578          0.009210    9    0.1080   \n\n       loudness audio_mode  speechiness    tempo time_signature  audio_valence  \n11960    -5.972          1       0.0409  129.976              4          0.296  \n5910     -5.997          1       0.0440  129.853              4          0.255  \n15407    -7.895          0       0.0399  159.036              4          0.808  \n4194     -8.585          0       0.0433  145.271              4          0.864  \n16819    -4.288          0       0.1080  124.988              4          0.719  \n11342    -4.388          0       0.1120  124.978              4          0.748  \n7873     -4.748          0       0.1250   91.990              4          0.588  \n18681    -4.745          0       0.1290   91.996              4          0.647  \n1864     -7.063          1       0.2060   99.259              4          0.640  \n1383     -9.401          1       0.1190   78.906              4          0.489  \n824      -5.439          0       0.1200  145.085              4          0.370  \n542      -4.627          0       0.1150  145.439              4          0.632  \n7174     -6.248          1       0.0536  121.021              4          0.228  \n11879    -6.246          1       0.0529  121.011              4          0.221  \n6086     -7.034          1       0.0775  135.619              4          0.697  \n2871     -5.955          1       0.0741  135.642              4          0.775  \n18117    -6.078          0       0.0476  114.316              4          0.842  \n8606     -6.056          0       0.0477  114.297              4          0.876  \n10835    -3.882          0       0.0249  107.995              4          0.445  \n15795    -3.879          0       0.0253  108.003              4          0.466  \n12991    -4.366          1       0.1130  123.003              4          0.560  \n49       -4.563          1       0.1200  123.669              4          0.537  ",
      "text/html": "<div>\n<style scoped>\n    .dataframe tbody tr th:only-of-type {\n        vertical-align: middle;\n    }\n\n    .dataframe tbody tr th {\n        vertical-align: top;\n    }\n\n    .dataframe thead th {\n        text-align: right;\n    }\n</style>\n<table border=\"1\" class=\"dataframe\">\n  <thead>\n    <tr style=\"text-align: right;\">\n      <th></th>\n      <th>song_name</th>\n      <th>song_popularity</th>\n      <th>song_duration_ms</th>\n      <th>acousticness</th>\n      <th>danceability</th>\n      <th>energy</th>\n      <th>instrumentalness</th>\n      <th>key</th>\n      <th>liveness</th>\n      <th>loudness</th>\n      <th>audio_mode</th>\n      <th>speechiness</th>\n      <th>tempo</th>\n      <th>time_signature</th>\n      <th>audio_valence</th>\n    </tr>\n  </thead>\n  <tbody>\n    <tr>\n      <th>11960</th>\n      <td>Always Remember Us This Way</td>\n      <td>79</td>\n      <td>210200</td>\n      <td>0.299000</td>\n      <td>0.553</td>\n      <td>0.502</td>\n      <td>0.000000</td>\n      <td>0</td>\n      <td>0.7640</td>\n      <td>-5.972</td>\n      <td>1</td>\n      <td>0.0409</td>\n      <td>129.976</td>\n      <td>4</td>\n      <td>0.296</td>\n    </tr>\n    <tr>\n      <th>5910</th>\n      <td>Always Remember Us This Way</td>\n      <td>79</td>\n      <td>210200</td>\n      <td>0.299000</td>\n      <td>0.541</td>\n      <td>0.522</td>\n      <td>0.000000</td>\n      <td>0</td>\n      <td>0.7750</td>\n      <td>-5.997</td>\n      <td>1</td>\n      <td>0.0440</td>\n      <td>129.853</td>\n      <td>4</td>\n      <td>0.255</td>\n    </tr>\n    <tr>\n      <th>15407</th>\n      <td>Amig</td>\n      <td>45</td>\n      <td>279946</td>\n      <td>0.747000</td>\n      <td>0.529</td>\n      <td>0.648</td>\n      <td>0.000000</td>\n      <td>11</td>\n      <td>0.1580</td>\n      <td>-7.895</td>\n      <td>0</td>\n      <td>0.0399</td>\n      <td>159.036</td>\n      <td>4</td>\n      <td>0.808</td>\n    </tr>\n    <tr>\n      <th>4194</th>\n      <td>Amig</td>\n      <td>45</td>\n      <td>205133</td>\n      <td>0.187000</td>\n      <td>0.582</td>\n      <td>0.668</td>\n      <td>0.000000</td>\n      <td>11</td>\n      <td>0.1140</td>\n      <td>-8.585</td>\n      <td>0</td>\n      <td>0.0433</td>\n      <td>145.271</td>\n      <td>4</td>\n      <td>0.864</td>\n    </tr>\n    <tr>\n      <th>16819</th>\n      <td>Believer</td>\n      <td>23</td>\n      <td>204346</td>\n      <td>0.051200</td>\n      <td>0.772</td>\n      <td>0.780</td>\n      <td>0.000000</td>\n      <td>10</td>\n      <td>0.1190</td>\n      <td>-4.288</td>\n      <td>0</td>\n      <td>0.1080</td>\n      <td>124.988</td>\n      <td>4</td>\n      <td>0.719</td>\n    </tr>\n    <tr>\n      <th>11342</th>\n      <td>Believer</td>\n      <td>23</td>\n      <td>203782</td>\n      <td>0.041700</td>\n      <td>0.772</td>\n      <td>0.775</td>\n      <td>0.000000</td>\n      <td>10</td>\n      <td>0.2260</td>\n      <td>-4.388</td>\n      <td>0</td>\n      <td>0.1120</td>\n      <td>124.978</td>\n      <td>4</td>\n      <td>0.748</td>\n    </tr>\n    <tr>\n      <th>7873</th>\n      <td>Bod</td>\n      <td>55</td>\n      <td>192999</td>\n      <td>0.301000</td>\n      <td>0.619</td>\n      <td>0.843</td>\n      <td>0.000000</td>\n      <td>2</td>\n      <td>0.0538</td>\n      <td>-4.748</td>\n      <td>0</td>\n      <td>0.1250</td>\n      <td>91.990</td>\n      <td>4</td>\n      <td>0.588</td>\n    </tr>\n    <tr>\n      <th>18681</th>\n      <td>Bod</td>\n      <td>55</td>\n      <td>192999</td>\n      <td>0.309000</td>\n      <td>0.620</td>\n      <td>0.841</td>\n      <td>0.000000</td>\n      <td>2</td>\n      <td>0.0538</td>\n      <td>-4.745</td>\n      <td>0</td>\n      <td>0.1290</td>\n      <td>91.996</td>\n      <td>4</td>\n      <td>0.647</td>\n    </tr>\n    <tr>\n      <th>1864</th>\n      <td>Crazy in Lov</td>\n      <td>65</td>\n      <td>249106</td>\n      <td>0.000553</td>\n      <td>0.646</td>\n      <td>0.720</td>\n      <td>0.000008</td>\n      <td>7</td>\n      <td>0.0556</td>\n      <td>-7.063</td>\n      <td>1</td>\n      <td>0.2060</td>\n      <td>99.259</td>\n      <td>4</td>\n      <td>0.640</td>\n    </tr>\n    <tr>\n      <th>1383</th>\n      <td>Crazy in Lov</td>\n      <td>65</td>\n      <td>227500</td>\n      <td>0.868000</td>\n      <td>0.606</td>\n      <td>0.326</td>\n      <td>0.000000</td>\n      <td>7</td>\n      <td>0.1200</td>\n      <td>-9.401</td>\n      <td>1</td>\n      <td>0.1190</td>\n      <td>78.906</td>\n      <td>4</td>\n      <td>0.489</td>\n    </tr>\n    <tr>\n      <th>824</th>\n      <td>Cum on Feel the Noiz</td>\n      <td>68</td>\n      <td>290960</td>\n      <td>0.007190</td>\n      <td>0.409</td>\n      <td>0.920</td>\n      <td>0.001050</td>\n      <td>11</td>\n      <td>0.0823</td>\n      <td>-5.439</td>\n      <td>0</td>\n      <td>0.1200</td>\n      <td>145.085</td>\n      <td>4</td>\n      <td>0.370</td>\n    </tr>\n    <tr>\n      <th>542</th>\n      <td>Cum on Feel the Noiz</td>\n      <td>68</td>\n      <td>287400</td>\n      <td>0.000183</td>\n      <td>0.441</td>\n      <td>0.908</td>\n      <td>0.003280</td>\n      <td>11</td>\n      <td>0.0612</td>\n      <td>-4.627</td>\n      <td>0</td>\n      <td>0.1150</td>\n      <td>145.439</td>\n      <td>4</td>\n      <td>0.632</td>\n    </tr>\n    <tr>\n      <th>7174</th>\n      <td>Love No Mor</td>\n      <td>68</td>\n      <td>168635</td>\n      <td>0.020300</td>\n      <td>0.768</td>\n      <td>0.673</td>\n      <td>0.000045</td>\n      <td>0</td>\n      <td>0.2580</td>\n      <td>-6.248</td>\n      <td>1</td>\n      <td>0.0536</td>\n      <td>121.021</td>\n      <td>4</td>\n      <td>0.228</td>\n    </tr>\n    <tr>\n      <th>11879</th>\n      <td>Love No Mor</td>\n      <td>68</td>\n      <td>168635</td>\n      <td>0.021600</td>\n      <td>0.767</td>\n      <td>0.674</td>\n      <td>0.000059</td>\n      <td>0</td>\n      <td>0.2570</td>\n      <td>-6.246</td>\n      <td>1</td>\n      <td>0.0529</td>\n      <td>121.011</td>\n      <td>4</td>\n      <td>0.221</td>\n    </tr>\n    <tr>\n      <th>6086</th>\n      <td>Pretty in Pink</td>\n      <td>53</td>\n      <td>239960</td>\n      <td>0.117000</td>\n      <td>0.376</td>\n      <td>0.885</td>\n      <td>0.010400</td>\n      <td>2</td>\n      <td>0.2960</td>\n      <td>-7.034</td>\n      <td>1</td>\n      <td>0.0775</td>\n      <td>135.619</td>\n      <td>4</td>\n      <td>0.697</td>\n    </tr>\n    <tr>\n      <th>2871</th>\n      <td>Pretty in Pink</td>\n      <td>53</td>\n      <td>238106</td>\n      <td>0.105000</td>\n      <td>0.386</td>\n      <td>0.916</td>\n      <td>0.009910</td>\n      <td>2</td>\n      <td>0.3250</td>\n      <td>-5.955</td>\n      <td>1</td>\n      <td>0.0741</td>\n      <td>135.642</td>\n      <td>4</td>\n      <td>0.775</td>\n    </tr>\n    <tr>\n      <th>18117</th>\n      <td>Promiscuou</td>\n      <td>67</td>\n      <td>242200</td>\n      <td>0.050000</td>\n      <td>0.813</td>\n      <td>0.977</td>\n      <td>0.000028</td>\n      <td>10</td>\n      <td>0.1470</td>\n      <td>-6.078</td>\n      <td>0</td>\n      <td>0.0476</td>\n      <td>114.316</td>\n      <td>4</td>\n      <td>0.842</td>\n    </tr>\n    <tr>\n      <th>8606</th>\n      <td>Promiscuou</td>\n      <td>67</td>\n      <td>242373</td>\n      <td>0.053600</td>\n      <td>0.807</td>\n      <td>0.970</td>\n      <td>0.000066</td>\n      <td>10</td>\n      <td>0.1490</td>\n      <td>-6.056</td>\n      <td>0</td>\n      <td>0.0477</td>\n      <td>114.297</td>\n      <td>4</td>\n      <td>0.876</td>\n    </tr>\n    <tr>\n      <th>10835</th>\n      <td>Set Fire to the R</td>\n      <td>75</td>\n      <td>242973</td>\n      <td>0.004080</td>\n      <td>0.603</td>\n      <td>0.670</td>\n      <td>0.000002</td>\n      <td>2</td>\n      <td>0.1120</td>\n      <td>-3.882</td>\n      <td>0</td>\n      <td>0.0249</td>\n      <td>107.995</td>\n      <td>4</td>\n      <td>0.445</td>\n    </tr>\n    <tr>\n      <th>15795</th>\n      <td>Set Fire to the R</td>\n      <td>75</td>\n      <td>241693</td>\n      <td>0.003820</td>\n      <td>0.610</td>\n      <td>0.683</td>\n      <td>0.000002</td>\n      <td>2</td>\n      <td>0.1250</td>\n      <td>-3.879</td>\n      <td>0</td>\n      <td>0.0253</td>\n      <td>108.003</td>\n      <td>4</td>\n      <td>0.466</td>\n    </tr>\n    <tr>\n      <th>12991</th>\n      <td>Steady, As She G</td>\n      <td>64</td>\n      <td>215266</td>\n      <td>0.008650</td>\n      <td>0.534</td>\n      <td>0.605</td>\n      <td>0.008260</td>\n      <td>9</td>\n      <td>0.0781</td>\n      <td>-4.366</td>\n      <td>1</td>\n      <td>0.1130</td>\n      <td>123.003</td>\n      <td>4</td>\n      <td>0.560</td>\n    </tr>\n    <tr>\n      <th>49</th>\n      <td>Steady, As She G</td>\n      <td>64</td>\n      <td>215266</td>\n      <td>0.013200</td>\n      <td>0.524</td>\n      <td>0.578</td>\n      <td>0.009210</td>\n      <td>9</td>\n      <td>0.1080</td>\n      <td>-4.563</td>\n      <td>1</td>\n      <td>0.1200</td>\n      <td>123.669</td>\n      <td>4</td>\n      <td>0.537</td>\n    </tr>\n  </tbody>\n</table>\n</div>"
     },
     "metadata": {},
     "execution_count": 115
    }
   ],
   "source": [
    "colunas = [\"song_name\", \"song_popularity\", \"key\", \"audio_mode\", \"time_signature\"]\n",
    "duplicates = df.duplicated(subset = colunas, keep=False)\n",
    "df[duplicates].sort_values(by = \"song_name\")"
   ]
  },
  {
   "cell_type": "markdown",
   "metadata": {},
   "source": [
    "Para tratar esses dados, decidi usar a média dos valores discrepantes."
   ]
  },
  {
   "cell_type": "code",
   "execution_count": 117,
   "metadata": {},
   "outputs": [
    {
     "output_type": "execute_result",
     "data": {
      "text/plain": "Empty DataFrame\nColumns: [song_name, song_popularity, key, audio_mode, time_signature, song_duration_ms, acousticness, danceability, energy, instrumentalness, liveness, loudness, speechiness, tempo, audio_valence]\nIndex: []",
      "text/html": "<div>\n<style scoped>\n    .dataframe tbody tr th:only-of-type {\n        vertical-align: middle;\n    }\n\n    .dataframe tbody tr th {\n        vertical-align: top;\n    }\n\n    .dataframe thead th {\n        text-align: right;\n    }\n</style>\n<table border=\"1\" class=\"dataframe\">\n  <thead>\n    <tr style=\"text-align: right;\">\n      <th></th>\n      <th>song_name</th>\n      <th>song_popularity</th>\n      <th>key</th>\n      <th>audio_mode</th>\n      <th>time_signature</th>\n      <th>song_duration_ms</th>\n      <th>acousticness</th>\n      <th>danceability</th>\n      <th>energy</th>\n      <th>instrumentalness</th>\n      <th>liveness</th>\n      <th>loudness</th>\n      <th>speechiness</th>\n      <th>tempo</th>\n      <th>audio_valence</th>\n    </tr>\n  </thead>\n  <tbody>\n  </tbody>\n</table>\n</div>"
     },
     "metadata": {},
     "execution_count": 117
    }
   ],
   "source": [
    "#completando a lista de floats\n",
    "ftrs_float.append(\"audio_valence\")\n",
    "\n",
    "#tirar a media dos discrepantes\n",
    "summaries = {'song_duration_ms': 'mean'}\n",
    "for ftr in ftrs_float:\n",
    "    summaries[ftr] = \"mean\"\n",
    "\n",
    "df = df.groupby(colunas).agg(summaries).reset_index()\n",
    "\n",
    "#Verificar se deu tudo certo \n",
    "duplicates = df.duplicated(subset = colunas, keep=False)\n",
    "df[duplicates].sort_values(by = \"song_name\")"
   ]
  },
  {
   "cell_type": "code",
   "execution_count": 119,
   "metadata": {},
   "outputs": [
    {
     "output_type": "stream",
     "name": "stdout",
     "text": "3914\n"
    }
   ],
   "source": [
    "depois2 = len(df)\n",
    "print(antes - depois2)"
   ]
  },
  {
   "cell_type": "markdown",
   "metadata": {},
   "source": [
    "Foram retirados ao todo 3914 duplicados."
   ]
  },
  {
   "cell_type": "code",
   "execution_count": 123,
   "metadata": {},
   "outputs": [
    {
     "output_type": "stream",
     "name": "stdout",
     "text": "<class 'pandas.core.frame.DataFrame'>\nRangeIndex: 14901 entries, 0 to 14900\nData columns (total 15 columns):\nsong_name           14901 non-null object\nsong_popularity     14901 non-null int64\nkey                 14901 non-null int64\naudio_mode          14901 non-null category\ntime_signature      14901 non-null category\nsong_duration_ms    14901 non-null float64\nacousticness        14901 non-null float64\ndanceability        14901 non-null float64\nenergy              14901 non-null float64\ninstrumentalness    14901 non-null float64\nliveness            14901 non-null float64\nloudness            14901 non-null float64\nspeechiness         14901 non-null float64\ntempo               14901 non-null float64\naudio_valence       14901 non-null float64\ndtypes: category(2), float64(10), int64(2), object(1)\nmemory usage: 1.5+ MB\n"
    }
   ],
   "source": [
    "df.info()"
   ]
  },
  {
   "cell_type": "markdown",
   "metadata": {},
   "source": [
    "## Novas colunas"
   ]
  },
  {
   "cell_type": "code",
   "execution_count": null,
   "metadata": {},
   "outputs": [],
   "source": []
  }
 ],
 "metadata": {
  "language_info": {
   "codemirror_mode": {
    "name": "ipython",
    "version": 3
   },
   "file_extension": ".py",
   "mimetype": "text/x-python",
   "name": "python",
   "nbconvert_exporter": "python",
   "pygments_lexer": "ipython3",
   "version": "3.7.1-final"
  },
  "orig_nbformat": 2,
  "kernelspec": {
   "name": "python3",
   "display_name": "Python 3"
  }
 },
 "nbformat": 4,
 "nbformat_minor": 2
}