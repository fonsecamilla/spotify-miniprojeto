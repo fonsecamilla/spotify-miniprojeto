{
 "cells": [
  {
   "cell_type": "markdown",
   "metadata": {},
   "source": [
    "<img src=\"https://www.politecnicos.com.br/img/075.jpg\" alt=\"Grupo Turing\" height=\"420\" width=\"420\">\n",
    "\n",
    "# Análise de dados - Spotify\n",
    "\n",
    "Por: Camilla de Oliveira Fonseca\n",
    "\n",
    "Essa é uma análise do dataset \"spotify.csv\" proposta como mini-projeto de treinamento do Grupo Turing."
   ]
  },
  {
   "cell_type": "markdown",
   "metadata": {},
   "source": [
    "### Descrição do dataset\n",
    "\n",
    "**Features:**\n",
    "\n",
    "* **key:** The estimated overall key of the track. Integers map to pitches using standard Pitch Class notation\n",
    "> E.g. 0 = C, 1 = C♯/D♭, 2 = D, and so on. If no key was detected, the value is -1.\n",
    "\n",
    "* **audio_mode:** Mode indicates the modality (major or minor) of a track, the type of scale from which its melodic content is derived.\n",
    "> Major is represented by 1 and minor is 0.\n",
    "\n",
    "* **time_signature:** An estimated overall time signature of a track. The time signature (meter) is a notational convention to specify how many beats are in each bar (or measure).\n",
    "\n",
    "* **acousticness:** A confidence measure from 0.0 to 1.0 of whether the track is acoustic.\n",
    "> 1.0 represents high confidence the track is acoustic.\n",
    "\n",
    "* **danceability:** Danceability describes how suitable a track is for dancing based on a combination of musical elements including tempo, rhythm stability, beat strength, and overall regularity.\n",
    "> A value of 0.0 is least danceable and 1.0 is most danceable.\n",
    "\n",
    "* **energy:** Energy is a measure from *0.0 to 1.0* and represents a perceptual measure of intensity and activity. Typically, energetic tracks feel fast, loud, and noisy. For example, death metal has high energy, while a Bach prelude scores low on the scale.\n",
    "\n",
    "* **instrumentalness:** Detects the presence of an audience in the recording.\n",
    "> Higher liveness values represent an increased probability that the track was performed live. A value above 0.8 provides strong likelihood that the track is live.\n",
    "\n",
    "* **loudness:** The overall loudness of a track in decibels (dB). Loudness values are averaged across the entire track and are useful for comparing relative loudness of tracks. Loudness is the quality of a sound that is the primary psychological correlate of physical strength (amplitude).\n",
    "> Values typical range between -60 and 0 db.\n",
    "\n",
    "* **speechiness:** Speechiness detects the presence of spoken words in a track.\n",
    "> The more exclusively speech-like the recording (e.g. talk show, audio book, poetry), the closer to 1.0 the attribute value. Values above 0.66 describe tracks that are probably made entirely of spoken words. Values between 0.33 and 0.66 describe tracks that may contain both music and speech, either in sections or layered, including such cases as rap music. Values below 0.33 most likely represent music and other non-speech-like tracks.\n",
    "\n",
    "* **audio_valence:** A measure from *0.0 to 1.0* describing the musical positiveness conveyed by a track. Tracks with high valence sound more positive (e.g. happy, cheerful, euphoric), while tracks with low valence sound more negative (e.g. sad, depressed, angry).\n",
    "\n",
    "* **tempo:** The overall estimated tempo of a track in beats per minute (BPM). In musical terminology, tempo is the speed or pace of a given piece and derives directly from the average beat duration.\n",
    "\n",
    "* **song_popularity:** Song ratings of spotify audience.\n",
    "\n",
    "* **liveness:** Detects the presence of an audience in the recording. Higher liveness values represent an increased probability that the track was performed live."
   ]
  },
  {
   "cell_type": "code",
   "execution_count": 1,
   "metadata": {},
   "outputs": [],
   "source": [
    "#Importando as bibliotecas necessarias\n",
    "import numpy as np\n",
    "import pandas as pd\n",
    "import matplotlib.pyplot as plt\n",
    "import seaborn as sns\n",
    "\n",
    "\n",
    "%matplotlib inline\n",
    "\n",
    "#Leitura do dataset\n",
    "df = pd.read_csv(\"spotify.csv\")"
   ]
  },
  {
   "cell_type": "markdown",
   "metadata": {},
   "source": [
    "# Explorando e preparando os dados\n"
   ]
  },
  {
   "cell_type": "code",
   "execution_count": 2,
   "metadata": {},
   "outputs": [
    {
     "output_type": "execute_result",
     "data": {
      "text/plain": "   Unnamed: 0                   song_name song_popularity song_duration_ms  \\\n0           0  Boulevard of Broken Dreams              73           262333   \n1           1                  In The End              66           216933   \n2           2           Seven Nation Army              76           231733   \n3           3                  By The Way              74           216933   \n4           4           How You Remind Me              56           223826   \n\n             acousticness danceability              energy instrumentalness  \\\n0  0.005520000000000001kg   0.496mol/L               0.682         2.94e-05   \n1                0.0103kg   0.542mol/L               0.853              0.0   \n2               0.00817kg   0.737mol/L               0.463            0.447   \n3                0.0264kg   0.451mol/L                0.97          0.00355   \n4              0.000954kg   0.447mol/L  0.7659999999999999              0.0   \n\n    key liveness             loudness audio_mode speechiness    tempo  \\\n0   8.0   0.0589               -4.095          1      0.0294   167.06   \n1   3.0    0.108               -6.407          0      0.0498  105.256   \n2   0.0    0.255  -7.8279999999999985          1      0.0792  123.881   \n3   0.0    0.102               -4.938          1       0.107  122.444   \n4  10.0    0.113               -5.065          1      0.0313  172.011   \n\n  time_signature  audio_valence  \n0              4          0.474  \n1              4          0.370  \n2              4          0.324  \n3              4          0.198  \n4              4          0.574  ",
      "text/html": "<div>\n<style scoped>\n    .dataframe tbody tr th:only-of-type {\n        vertical-align: middle;\n    }\n\n    .dataframe tbody tr th {\n        vertical-align: top;\n    }\n\n    .dataframe thead th {\n        text-align: right;\n    }\n</style>\n<table border=\"1\" class=\"dataframe\">\n  <thead>\n    <tr style=\"text-align: right;\">\n      <th></th>\n      <th>Unnamed: 0</th>\n      <th>song_name</th>\n      <th>song_popularity</th>\n      <th>song_duration_ms</th>\n      <th>acousticness</th>\n      <th>danceability</th>\n      <th>energy</th>\n      <th>instrumentalness</th>\n      <th>key</th>\n      <th>liveness</th>\n      <th>loudness</th>\n      <th>audio_mode</th>\n      <th>speechiness</th>\n      <th>tempo</th>\n      <th>time_signature</th>\n      <th>audio_valence</th>\n    </tr>\n  </thead>\n  <tbody>\n    <tr>\n      <th>0</th>\n      <td>0</td>\n      <td>Boulevard of Broken Dreams</td>\n      <td>73</td>\n      <td>262333</td>\n      <td>0.005520000000000001kg</td>\n      <td>0.496mol/L</td>\n      <td>0.682</td>\n      <td>2.94e-05</td>\n      <td>8.0</td>\n      <td>0.0589</td>\n      <td>-4.095</td>\n      <td>1</td>\n      <td>0.0294</td>\n      <td>167.06</td>\n      <td>4</td>\n      <td>0.474</td>\n    </tr>\n    <tr>\n      <th>1</th>\n      <td>1</td>\n      <td>In The End</td>\n      <td>66</td>\n      <td>216933</td>\n      <td>0.0103kg</td>\n      <td>0.542mol/L</td>\n      <td>0.853</td>\n      <td>0.0</td>\n      <td>3.0</td>\n      <td>0.108</td>\n      <td>-6.407</td>\n      <td>0</td>\n      <td>0.0498</td>\n      <td>105.256</td>\n      <td>4</td>\n      <td>0.370</td>\n    </tr>\n    <tr>\n      <th>2</th>\n      <td>2</td>\n      <td>Seven Nation Army</td>\n      <td>76</td>\n      <td>231733</td>\n      <td>0.00817kg</td>\n      <td>0.737mol/L</td>\n      <td>0.463</td>\n      <td>0.447</td>\n      <td>0.0</td>\n      <td>0.255</td>\n      <td>-7.8279999999999985</td>\n      <td>1</td>\n      <td>0.0792</td>\n      <td>123.881</td>\n      <td>4</td>\n      <td>0.324</td>\n    </tr>\n    <tr>\n      <th>3</th>\n      <td>3</td>\n      <td>By The Way</td>\n      <td>74</td>\n      <td>216933</td>\n      <td>0.0264kg</td>\n      <td>0.451mol/L</td>\n      <td>0.97</td>\n      <td>0.00355</td>\n      <td>0.0</td>\n      <td>0.102</td>\n      <td>-4.938</td>\n      <td>1</td>\n      <td>0.107</td>\n      <td>122.444</td>\n      <td>4</td>\n      <td>0.198</td>\n    </tr>\n    <tr>\n      <th>4</th>\n      <td>4</td>\n      <td>How You Remind Me</td>\n      <td>56</td>\n      <td>223826</td>\n      <td>0.000954kg</td>\n      <td>0.447mol/L</td>\n      <td>0.7659999999999999</td>\n      <td>0.0</td>\n      <td>10.0</td>\n      <td>0.113</td>\n      <td>-5.065</td>\n      <td>1</td>\n      <td>0.0313</td>\n      <td>172.011</td>\n      <td>4</td>\n      <td>0.574</td>\n    </tr>\n  </tbody>\n</table>\n</div>"
     },
     "metadata": {},
     "execution_count": 2
    }
   ],
   "source": [
    "df.head()"
   ]
  },
  {
   "cell_type": "code",
   "execution_count": 3,
   "metadata": {},
   "outputs": [
    {
     "output_type": "stream",
     "name": "stdout",
     "text": "<class 'pandas.core.frame.DataFrame'>\nRangeIndex: 18835 entries, 0 to 18834\nData columns (total 16 columns):\nUnnamed: 0          18835 non-null int64\nsong_name           18835 non-null object\nsong_popularity     18835 non-null object\nsong_duration_ms    18835 non-null object\nacousticness        18835 non-null object\ndanceability        18835 non-null object\nenergy              18835 non-null object\ninstrumentalness    18835 non-null object\nkey                 18835 non-null float64\nliveness            18835 non-null object\nloudness            18835 non-null object\naudio_mode          18835 non-null object\nspeechiness         18835 non-null object\ntempo               18835 non-null object\ntime_signature      18835 non-null object\naudio_valence       18834 non-null float64\ndtypes: float64(2), int64(1), object(13)\nmemory usage: 2.3+ MB\n"
    }
   ],
   "source": [
    "df.info()"
   ]
  },
  {
   "cell_type": "markdown",
   "metadata": {},
   "source": [
    "Pela descrição das features, sabemos que _audio_mode_ é categórica e as demais, numéricas. No entanto, só _key_ e _audio_valence_ estão armazenada corretamente como _float_, enquanto as demais, como _string_.\n",
    "\n",
    "Além disso, os valores de *acousticness* e *danceability* estão salvos com \"kg\" e \"mol/L\" que, além de não fazerem sentido, precisam ser retirados para converter os dados em *float*."
   ]
  }
 ],
 "metadata": {
  "language_info": {
   "codemirror_mode": {
    "name": "ipython",
    "version": 3
   },
   "file_extension": ".py",
   "mimetype": "text/x-python",
   "name": "python",
   "nbconvert_exporter": "python",
   "pygments_lexer": "ipython3",
   "version": "3.7.1-final"
  },
  "orig_nbformat": 2,
  "kernelspec": {
   "name": "python3",
   "display_name": "Python 3"
  }
 },
 "nbformat": 4,
 "nbformat_minor": 2
}